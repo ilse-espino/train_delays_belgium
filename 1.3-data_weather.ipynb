{
 "cells": [
  {
   "cell_type": "code",
   "execution_count": 1,
   "metadata": {},
   "outputs": [],
   "source": [
    "#import libraries\n",
    "import pandas as pd\n",
    "import numpy as np"
   ]
  },
  {
   "cell_type": "code",
   "execution_count": 2,
   "metadata": {},
   "outputs": [],
   "source": [
    "# read file\n",
    "df = pd.read_csv(\"/Users/ilseeb/Desktop/Postgraduate/Train Punctuality Data/brussels_weather.csv\")\n"
   ]
  },
  {
   "cell_type": "code",
   "execution_count": 3,
   "metadata": {},
   "outputs": [
    {
     "data": {
      "text/html": [
       "<div>\n",
       "<style scoped>\n",
       "    .dataframe tbody tr th:only-of-type {\n",
       "        vertical-align: middle;\n",
       "    }\n",
       "\n",
       "    .dataframe tbody tr th {\n",
       "        vertical-align: top;\n",
       "    }\n",
       "\n",
       "    .dataframe thead th {\n",
       "        text-align: right;\n",
       "    }\n",
       "</style>\n",
       "<table border=\"1\" class=\"dataframe\">\n",
       "  <thead>\n",
       "    <tr style=\"text-align: right;\">\n",
       "      <th></th>\n",
       "      <th>location</th>\n",
       "      <th>Grand Place Brussels</th>\n",
       "      <th>Grand Place Brussels.1</th>\n",
       "      <th>Grand Place Brussels.2</th>\n",
       "      <th>Grand Place Brussels.3</th>\n",
       "    </tr>\n",
       "  </thead>\n",
       "  <tbody>\n",
       "    <tr>\n",
       "      <th>0</th>\n",
       "      <td>lat</td>\n",
       "      <td>50.75000</td>\n",
       "      <td>50.75000</td>\n",
       "      <td>50.75000</td>\n",
       "      <td>50.75000</td>\n",
       "    </tr>\n",
       "    <tr>\n",
       "      <th>1</th>\n",
       "      <td>lon</td>\n",
       "      <td>4.25000</td>\n",
       "      <td>4.25000</td>\n",
       "      <td>4.25000</td>\n",
       "      <td>4.25000</td>\n",
       "    </tr>\n",
       "    <tr>\n",
       "      <th>2</th>\n",
       "      <td>asl</td>\n",
       "      <td>65.530</td>\n",
       "      <td>65.530</td>\n",
       "      <td>65.530</td>\n",
       "      <td>65.530</td>\n",
       "    </tr>\n",
       "    <tr>\n",
       "      <th>3</th>\n",
       "      <td>variable</td>\n",
       "      <td>Temperature</td>\n",
       "      <td>Relative Humidity</td>\n",
       "      <td>Wind Speed</td>\n",
       "      <td>Wind Direction</td>\n",
       "    </tr>\n",
       "    <tr>\n",
       "      <th>4</th>\n",
       "      <td>unit</td>\n",
       "      <td>°C</td>\n",
       "      <td>%</td>\n",
       "      <td>km/h</td>\n",
       "      <td>°</td>\n",
       "    </tr>\n",
       "  </tbody>\n",
       "</table>\n",
       "</div>"
      ],
      "text/plain": [
       "   location Grand Place Brussels Grand Place Brussels.1  \\\n",
       "0       lat             50.75000               50.75000   \n",
       "1       lon              4.25000                4.25000   \n",
       "2       asl               65.530                 65.530   \n",
       "3  variable          Temperature      Relative Humidity   \n",
       "4      unit                   °C                      %   \n",
       "\n",
       "  Grand Place Brussels.2 Grand Place Brussels.3  \n",
       "0               50.75000               50.75000  \n",
       "1                4.25000                4.25000  \n",
       "2                 65.530                 65.530  \n",
       "3             Wind Speed         Wind Direction  \n",
       "4                   km/h                      °  "
      ]
     },
     "execution_count": 3,
     "metadata": {},
     "output_type": "execute_result"
    }
   ],
   "source": [
    "df.head()\n"
   ]
  },
  {
   "cell_type": "code",
   "execution_count": 4,
   "metadata": {},
   "outputs": [],
   "source": [
    "# drop first 9 rows\n",
    "df.drop(df.index[:9], inplace=True)"
   ]
  },
  {
   "cell_type": "code",
   "execution_count": 5,
   "metadata": {},
   "outputs": [],
   "source": [
    "# rename columns\n",
    "df = df.rename(columns={\"location\": \"date_time\" ,\"Grand Place Brussels\": \"temperature\", \"Grand Place Brussels.1\": \"relative_humidity\", \"Grand Place Brussels.2\": \"wind_speed\", \"Grand Place Brussels.3\": \"wind_direction\"})"
   ]
  },
  {
   "cell_type": "code",
   "execution_count": 6,
   "metadata": {},
   "outputs": [],
   "source": [
    "#get the year, month, day and time in separate columns\n",
    "df[\"year\"] = df[\"date_time\"].apply(lambda x: x[:4])\n",
    "df[\"month\"] = df[\"date_time\"].apply(lambda x: x[4:6])\n",
    "df[\"day\"] = df[\"date_time\"].apply(lambda x: x[6:8])\n",
    "df[\"time\"] = df[\"date_time\"].apply(lambda x: x[9:])"
   ]
  },
  {
   "cell_type": "code",
   "execution_count": 7,
   "metadata": {},
   "outputs": [
    {
     "data": {
      "text/html": [
       "<div>\n",
       "<style scoped>\n",
       "    .dataframe tbody tr th:only-of-type {\n",
       "        vertical-align: middle;\n",
       "    }\n",
       "\n",
       "    .dataframe tbody tr th {\n",
       "        vertical-align: top;\n",
       "    }\n",
       "\n",
       "    .dataframe thead th {\n",
       "        text-align: right;\n",
       "    }\n",
       "</style>\n",
       "<table border=\"1\" class=\"dataframe\">\n",
       "  <thead>\n",
       "    <tr style=\"text-align: right;\">\n",
       "      <th></th>\n",
       "      <th>date_time</th>\n",
       "      <th>temperature</th>\n",
       "      <th>relative_humidity</th>\n",
       "      <th>wind_speed</th>\n",
       "      <th>wind_direction</th>\n",
       "      <th>year</th>\n",
       "      <th>month</th>\n",
       "      <th>day</th>\n",
       "      <th>time</th>\n",
       "    </tr>\n",
       "  </thead>\n",
       "  <tbody>\n",
       "    <tr>\n",
       "      <th>9</th>\n",
       "      <td>20140101T0000</td>\n",
       "      <td>6.4709435</td>\n",
       "      <td>91.90476</td>\n",
       "      <td>20.774214</td>\n",
       "      <td>207.89728</td>\n",
       "      <td>2014</td>\n",
       "      <td>01</td>\n",
       "      <td>01</td>\n",
       "      <td>0000</td>\n",
       "    </tr>\n",
       "    <tr>\n",
       "      <th>10</th>\n",
       "      <td>20140101T0100</td>\n",
       "      <td>6.840944</td>\n",
       "      <td>91.48526</td>\n",
       "      <td>20.592503</td>\n",
       "      <td>216.46924</td>\n",
       "      <td>2014</td>\n",
       "      <td>01</td>\n",
       "      <td>01</td>\n",
       "      <td>0100</td>\n",
       "    </tr>\n",
       "    <tr>\n",
       "      <th>11</th>\n",
       "      <td>20140101T0200</td>\n",
       "      <td>6.7509437</td>\n",
       "      <td>91.160164</td>\n",
       "      <td>19.296135</td>\n",
       "      <td>216.65611</td>\n",
       "      <td>2014</td>\n",
       "      <td>01</td>\n",
       "      <td>01</td>\n",
       "      <td>0200</td>\n",
       "    </tr>\n",
       "    <tr>\n",
       "      <th>12</th>\n",
       "      <td>20140101T0300</td>\n",
       "      <td>6.360944</td>\n",
       "      <td>89.92542</td>\n",
       "      <td>19.164717</td>\n",
       "      <td>208.00919</td>\n",
       "      <td>2014</td>\n",
       "      <td>01</td>\n",
       "      <td>01</td>\n",
       "      <td>0300</td>\n",
       "    </tr>\n",
       "    <tr>\n",
       "      <th>13</th>\n",
       "      <td>20140101T0400</td>\n",
       "      <td>6.0409436</td>\n",
       "      <td>88.89181</td>\n",
       "      <td>19.255793</td>\n",
       "      <td>200.8068</td>\n",
       "      <td>2014</td>\n",
       "      <td>01</td>\n",
       "      <td>01</td>\n",
       "      <td>0400</td>\n",
       "    </tr>\n",
       "  </tbody>\n",
       "</table>\n",
       "</div>"
      ],
      "text/plain": [
       "        date_time temperature relative_humidity wind_speed wind_direction  \\\n",
       "9   20140101T0000   6.4709435          91.90476  20.774214      207.89728   \n",
       "10  20140101T0100    6.840944          91.48526  20.592503      216.46924   \n",
       "11  20140101T0200   6.7509437         91.160164  19.296135      216.65611   \n",
       "12  20140101T0300    6.360944          89.92542  19.164717      208.00919   \n",
       "13  20140101T0400   6.0409436          88.89181  19.255793       200.8068   \n",
       "\n",
       "    year month day  time  \n",
       "9   2014    01  01  0000  \n",
       "10  2014    01  01  0100  \n",
       "11  2014    01  01  0200  \n",
       "12  2014    01  01  0300  \n",
       "13  2014    01  01  0400  "
      ]
     },
     "execution_count": 7,
     "metadata": {},
     "output_type": "execute_result"
    }
   ],
   "source": [
    "df.head()"
   ]
  },
  {
   "cell_type": "code",
   "execution_count": 8,
   "metadata": {},
   "outputs": [
    {
     "data": {
      "text/plain": [
       "date_time            object\n",
       "temperature          object\n",
       "relative_humidity    object\n",
       "wind_speed           object\n",
       "wind_direction       object\n",
       "year                 object\n",
       "month                object\n",
       "day                  object\n",
       "time                 object\n",
       "dtype: object"
      ]
     },
     "execution_count": 8,
     "metadata": {},
     "output_type": "execute_result"
    }
   ],
   "source": [
    "# check the data types\n",
    "df.dtypes"
   ]
  },
  {
   "cell_type": "code",
   "execution_count": 9,
   "metadata": {},
   "outputs": [],
   "source": [
    "# change temperature, relative humidity, wind speed, wind direction, and time data type to float\n",
    "df[\"temperature\"] = df[\"temperature\"].apply(lambda x: x[:2]).astype(float)\n",
    "df[\"relative_humidity\"] = df[\"relative_humidity\"].apply(lambda x: x[:2]).astype(float)\n",
    "df[\"wind_speed\"] = df[\"wind_speed\"].apply(lambda x: x[:2]).astype(float)\n",
    "df[\"wind_direction\"] = df[\"wind_direction\"].apply(lambda x: x[:2]).astype(float)\n",
    "df[\"time\"] = df[\"time\"].apply(lambda x: x[:2]).astype(float)"
   ]
  },
  {
   "cell_type": "code",
   "execution_count": 10,
   "metadata": {},
   "outputs": [],
   "source": [
    "# change year, month, and day data type to integer\n",
    "df[\"year\"] = df[\"year\"].apply(lambda x: x[:2]).astype(int)\n",
    "df[\"month\"] = df[\"month\"].apply(lambda x: x[:2]).astype(int)\n",
    "df[\"day\"] = df[\"day\"].apply(lambda x: x[:2]).astype(int)\n"
   ]
  },
  {
   "cell_type": "code",
   "execution_count": 11,
   "metadata": {},
   "outputs": [
    {
     "data": {
      "text/plain": [
       "date_time             object\n",
       "temperature          float64\n",
       "relative_humidity    float64\n",
       "wind_speed           float64\n",
       "wind_direction       float64\n",
       "year                   int64\n",
       "month                  int64\n",
       "day                    int64\n",
       "time                 float64\n",
       "dtype: object"
      ]
     },
     "execution_count": 11,
     "metadata": {},
     "output_type": "execute_result"
    }
   ],
   "source": [
    "df.dtypes"
   ]
  },
  {
   "cell_type": "code",
   "execution_count": 12,
   "metadata": {},
   "outputs": [],
   "source": [
    "# drop datetime column\n",
    "df.drop(columns=[\"date_time\"], inplace=True)"
   ]
  },
  {
   "cell_type": "code",
   "execution_count": 13,
   "metadata": {},
   "outputs": [],
   "source": [
    "# export to pickle\n",
    "df.to_pickle(\"/Users/ilseeb/Desktop/Postgraduate/Train Punctuality Data/weather_data.pkl\")"
   ]
  }
 ],
 "metadata": {
  "kernelspec": {
   "display_name": "Python 3",
   "language": "python",
   "name": "python3"
  },
  "language_info": {
   "codemirror_mode": {
    "name": "ipython",
    "version": 3
   },
   "file_extension": ".py",
   "mimetype": "text/x-python",
   "name": "python",
   "nbconvert_exporter": "python",
   "pygments_lexer": "ipython3",
   "version": "3.9.7"
  },
  "orig_nbformat": 4,
  "vscode": {
   "interpreter": {
    "hash": "aee8b7b246df8f9039afb4144a1f6fd8d2ca17a180786b69acc140d282b71a49"
   }
  }
 },
 "nbformat": 4,
 "nbformat_minor": 2
}
