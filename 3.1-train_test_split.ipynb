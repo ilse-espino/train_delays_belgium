{
 "cells": [
  {
   "cell_type": "code",
   "execution_count": 13,
   "metadata": {},
   "outputs": [],
   "source": [
    "# import libraries\n",
    "\n",
    "import pandas as pd\n",
    "import numpy as np\n",
    "from sklearn.model_selection import train_test_split"
   ]
  },
  {
   "cell_type": "code",
   "execution_count": 14,
   "metadata": {},
   "outputs": [],
   "source": [
    "# read df\n",
    "\n",
    "df = pd.read_pickle(\"/Users/ilseeb/Desktop/Postgraduate/Train Punctuality Data/df_train_delays.pkl\")"
   ]
  },
  {
   "cell_type": "code",
   "execution_count": 15,
   "metadata": {},
   "outputs": [
    {
     "data": {
      "text/plain": [
       "Index(['train_serv', 'delayed', 'month', 'destination_region',\n",
       "       'departure_region', 'temperature', 'relative_humidity', 'wind_speed',\n",
       "       'wind_direction', 'time_of_day', 'date', 'day_of_week'],\n",
       "      dtype='object')"
      ]
     },
     "execution_count": 15,
     "metadata": {},
     "output_type": "execute_result"
    }
   ],
   "source": [
    "# get variables\n",
    "\n",
    "df.columns"
   ]
  },
  {
   "cell_type": "code",
   "execution_count": 16,
   "metadata": {},
   "outputs": [],
   "source": [
    "# identify y and X\n",
    "\n",
    "y = df[\"delayed\"]\n",
    "X = df[['train_serv', 'month', 'destination_region',\n",
    "       'departure_region', 'temperature', 'relative_humidity', 'wind_speed',\n",
    "       'wind_direction', 'time_of_day', 'date', 'day_of_week']]"
   ]
  },
  {
   "cell_type": "code",
   "execution_count": 17,
   "metadata": {},
   "outputs": [],
   "source": [
    "# split the data\n",
    "\n",
    "X_train, X_test, y_train, y_test = train_test_split(X, y, random_state=3, test_size=0.25)"
   ]
  },
  {
   "cell_type": "code",
   "execution_count": 18,
   "metadata": {},
   "outputs": [
    {
     "data": {
      "text/plain": [
       "train_serv            2386905\n",
       "month                 2386905\n",
       "destination_region    2386905\n",
       "departure_region      2386905\n",
       "temperature           2386905\n",
       "relative_humidity     2386905\n",
       "wind_speed            2386905\n",
       "wind_direction        2386905\n",
       "time_of_day           2386905\n",
       "date                  2386905\n",
       "day_of_week           2386905\n",
       "dtype: int64"
      ]
     },
     "execution_count": 18,
     "metadata": {},
     "output_type": "execute_result"
    }
   ],
   "source": [
    "X_train.count()"
   ]
  },
  {
   "cell_type": "code",
   "execution_count": 19,
   "metadata": {},
   "outputs": [
    {
     "data": {
      "text/plain": [
       "train_serv            795636\n",
       "month                 795636\n",
       "destination_region    795636\n",
       "departure_region      795636\n",
       "temperature           795636\n",
       "relative_humidity     795636\n",
       "wind_speed            795636\n",
       "wind_direction        795636\n",
       "time_of_day           795636\n",
       "date                  795636\n",
       "day_of_week           795636\n",
       "dtype: int64"
      ]
     },
     "execution_count": 19,
     "metadata": {},
     "output_type": "execute_result"
    }
   ],
   "source": [
    "X_test.count()"
   ]
  },
  {
   "cell_type": "code",
   "execution_count": 20,
   "metadata": {},
   "outputs": [],
   "source": [
    "#export to pickle\n",
    "X_train.to_pickle(\"/Users/ilseeb/Desktop/Postgraduate/Train Punctuality Data/train_test_data/X_train.pkl\")\n",
    "X_test.to_pickle(\"/Users/ilseeb/Desktop/Postgraduate/Train Punctuality Data/train_test_data/X_test.pkl\")\n",
    "y_train.to_pickle(\"/Users/ilseeb/Desktop/Postgraduate/Train Punctuality Data/train_test_data/y_train.pkl\")\n",
    "y_test.to_pickle(\"/Users/ilseeb/Desktop/Postgraduate/Train Punctuality Data/train_test_data/y_test.pkl\")"
   ]
  }
 ],
 "metadata": {
  "kernelspec": {
   "display_name": "Python 3",
   "language": "python",
   "name": "python3"
  },
  "language_info": {
   "codemirror_mode": {
    "name": "ipython",
    "version": 3
   },
   "file_extension": ".py",
   "mimetype": "text/x-python",
   "name": "python",
   "nbconvert_exporter": "python",
   "pygments_lexer": "ipython3",
   "version": "3.9.7"
  },
  "orig_nbformat": 4,
  "vscode": {
   "interpreter": {
    "hash": "aee8b7b246df8f9039afb4144a1f6fd8d2ca17a180786b69acc140d282b71a49"
   }
  }
 },
 "nbformat": 4,
 "nbformat_minor": 2
}
