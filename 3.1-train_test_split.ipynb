{
 "cells": [
  {
   "cell_type": "code",
   "execution_count": 3,
   "metadata": {},
   "outputs": [],
   "source": [
    "# import libraries\n",
    "\n",
    "import pandas as pd\n",
    "import numpy as np\n",
    "from sklearn.model_selection import train_test_split"
   ]
  },
  {
   "cell_type": "code",
   "execution_count": 4,
   "metadata": {},
   "outputs": [],
   "source": [
    "# read df\n",
    "\n",
    "df = pd.read_pickle(\"/Users/ilseeb/Desktop/Postgraduate/Train Punctuality Data/df_train_delays.pkl\")"
   ]
  },
  {
   "cell_type": "code",
   "execution_count": 11,
   "metadata": {},
   "outputs": [
    {
     "data": {
      "text/plain": [
       "Index(['train_serv', 'delay_dep', 'delayed', 'month', 'destination_region',\n",
       "       'departure_region', 'temperature', 'relative_humidity', 'wind_speed',\n",
       "       'wind_direction', 'time_of_day', 'date', 'day_of_week'],\n",
       "      dtype='object')"
      ]
     },
     "execution_count": 11,
     "metadata": {},
     "output_type": "execute_result"
    }
   ],
   "source": [
    "# get variables\n",
    "\n",
    "df.columns"
   ]
  },
  {
   "cell_type": "code",
   "execution_count": 14,
   "metadata": {},
   "outputs": [],
   "source": [
    "# identify y and X\n",
    "\n",
    "y = df[\"delayed\"]\n",
    "X = df[['train_serv', 'delay_dep', 'month', 'destination_region',\n",
    "       'departure_region', 'temperature', 'relative_humidity', 'wind_speed',\n",
    "       'wind_direction', 'time_of_day', 'date', 'day_of_week']]"
   ]
  },
  {
   "cell_type": "code",
   "execution_count": 15,
   "metadata": {},
   "outputs": [],
   "source": [
    "# split the data\n",
    "\n",
    "X_train, X_test, y_train, y_test = train_test_split(X, y, random_state=3, test_size=0.20)"
   ]
  },
  {
   "cell_type": "code",
   "execution_count": 17,
   "metadata": {},
   "outputs": [
    {
     "data": {
      "text/plain": [
       "train_serv            2546032\n",
       "delay_dep             2546032\n",
       "month                 2546032\n",
       "destination_region    2546032\n",
       "departure_region      2546032\n",
       "temperature           2546032\n",
       "relative_humidity     2546032\n",
       "wind_speed            2546032\n",
       "wind_direction        2546032\n",
       "time_of_day           2546032\n",
       "date                  2546032\n",
       "day_of_week           2546032\n",
       "dtype: int64"
      ]
     },
     "execution_count": 17,
     "metadata": {},
     "output_type": "execute_result"
    }
   ],
   "source": [
    "X_train.count()"
   ]
  },
  {
   "cell_type": "code",
   "execution_count": 18,
   "metadata": {},
   "outputs": [
    {
     "data": {
      "text/plain": [
       "train_serv            636509\n",
       "delay_dep             636509\n",
       "month                 636509\n",
       "destination_region    636509\n",
       "departure_region      636509\n",
       "temperature           636509\n",
       "relative_humidity     636509\n",
       "wind_speed            636509\n",
       "wind_direction        636509\n",
       "time_of_day           636509\n",
       "date                  636509\n",
       "day_of_week           636509\n",
       "dtype: int64"
      ]
     },
     "execution_count": 18,
     "metadata": {},
     "output_type": "execute_result"
    }
   ],
   "source": [
    "X_test.count()"
   ]
  },
  {
   "cell_type": "code",
   "execution_count": null,
   "metadata": {},
   "outputs": [],
   "source": []
  }
 ],
 "metadata": {
  "kernelspec": {
   "display_name": "Python 3",
   "language": "python",
   "name": "python3"
  },
  "language_info": {
   "codemirror_mode": {
    "name": "ipython",
    "version": 3
   },
   "file_extension": ".py",
   "mimetype": "text/x-python",
   "name": "python",
   "nbconvert_exporter": "python",
   "pygments_lexer": "ipython3",
   "version": "3.9.7"
  },
  "orig_nbformat": 4,
  "vscode": {
   "interpreter": {
    "hash": "aee8b7b246df8f9039afb4144a1f6fd8d2ca17a180786b69acc140d282b71a49"
   }
  }
 },
 "nbformat": 4,
 "nbformat_minor": 2
}
