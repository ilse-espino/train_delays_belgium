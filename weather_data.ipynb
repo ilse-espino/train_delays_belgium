{
 "cells": [
  {
   "cell_type": "code",
   "execution_count": 49,
   "metadata": {},
   "outputs": [],
   "source": [
    "#import libraries\n",
    "import pandas as pd\n",
    "import numpy as np"
   ]
  },
  {
   "cell_type": "code",
   "execution_count": 50,
   "metadata": {},
   "outputs": [],
   "source": [
    "df = pd.read_csv(\"/Users/ilseeb/Downloads/Train Punctuality Data/brussels_weather.csv\")"
   ]
  },
  {
   "cell_type": "code",
   "execution_count": 51,
   "metadata": {},
   "outputs": [
    {
     "data": {
      "text/html": [
       "<div>\n",
       "<style scoped>\n",
       "    .dataframe tbody tr th:only-of-type {\n",
       "        vertical-align: middle;\n",
       "    }\n",
       "\n",
       "    .dataframe tbody tr th {\n",
       "        vertical-align: top;\n",
       "    }\n",
       "\n",
       "    .dataframe thead th {\n",
       "        text-align: right;\n",
       "    }\n",
       "</style>\n",
       "<table border=\"1\" class=\"dataframe\">\n",
       "  <thead>\n",
       "    <tr style=\"text-align: right;\">\n",
       "      <th></th>\n",
       "      <th>location</th>\n",
       "      <th>Grand Place Brussels</th>\n",
       "      <th>Grand Place Brussels.1</th>\n",
       "      <th>Grand Place Brussels.2</th>\n",
       "      <th>Grand Place Brussels.3</th>\n",
       "    </tr>\n",
       "  </thead>\n",
       "  <tbody>\n",
       "    <tr>\n",
       "      <th>0</th>\n",
       "      <td>lat</td>\n",
       "      <td>50.75000</td>\n",
       "      <td>50.75000</td>\n",
       "      <td>50.75000</td>\n",
       "      <td>50.75000</td>\n",
       "    </tr>\n",
       "    <tr>\n",
       "      <th>1</th>\n",
       "      <td>lon</td>\n",
       "      <td>4.25000</td>\n",
       "      <td>4.25000</td>\n",
       "      <td>4.25000</td>\n",
       "      <td>4.25000</td>\n",
       "    </tr>\n",
       "    <tr>\n",
       "      <th>2</th>\n",
       "      <td>asl</td>\n",
       "      <td>65.530</td>\n",
       "      <td>65.530</td>\n",
       "      <td>65.530</td>\n",
       "      <td>65.530</td>\n",
       "    </tr>\n",
       "    <tr>\n",
       "      <th>3</th>\n",
       "      <td>variable</td>\n",
       "      <td>Temperature</td>\n",
       "      <td>Relative Humidity</td>\n",
       "      <td>Wind Speed</td>\n",
       "      <td>Wind Direction</td>\n",
       "    </tr>\n",
       "    <tr>\n",
       "      <th>4</th>\n",
       "      <td>unit</td>\n",
       "      <td>°C</td>\n",
       "      <td>%</td>\n",
       "      <td>km/h</td>\n",
       "      <td>°</td>\n",
       "    </tr>\n",
       "  </tbody>\n",
       "</table>\n",
       "</div>"
      ],
      "text/plain": [
       "   location Grand Place Brussels Grand Place Brussels.1  \\\n",
       "0       lat             50.75000               50.75000   \n",
       "1       lon              4.25000                4.25000   \n",
       "2       asl               65.530                 65.530   \n",
       "3  variable          Temperature      Relative Humidity   \n",
       "4      unit                   °C                      %   \n",
       "\n",
       "  Grand Place Brussels.2 Grand Place Brussels.3  \n",
       "0               50.75000               50.75000  \n",
       "1                4.25000                4.25000  \n",
       "2                 65.530                 65.530  \n",
       "3             Wind Speed         Wind Direction  \n",
       "4                   km/h                      °  "
      ]
     },
     "execution_count": 51,
     "metadata": {},
     "output_type": "execute_result"
    }
   ],
   "source": [
    "df.head()"
   ]
  },
  {
   "cell_type": "code",
   "execution_count": 52,
   "metadata": {},
   "outputs": [],
   "source": [
    "df.drop(df.index[:9], inplace=True)"
   ]
  },
  {
   "cell_type": "code",
   "execution_count": 53,
   "metadata": {},
   "outputs": [
    {
     "data": {
      "text/html": [
       "<div>\n",
       "<style scoped>\n",
       "    .dataframe tbody tr th:only-of-type {\n",
       "        vertical-align: middle;\n",
       "    }\n",
       "\n",
       "    .dataframe tbody tr th {\n",
       "        vertical-align: top;\n",
       "    }\n",
       "\n",
       "    .dataframe thead th {\n",
       "        text-align: right;\n",
       "    }\n",
       "</style>\n",
       "<table border=\"1\" class=\"dataframe\">\n",
       "  <thead>\n",
       "    <tr style=\"text-align: right;\">\n",
       "      <th></th>\n",
       "      <th>location</th>\n",
       "      <th>Grand Place Brussels</th>\n",
       "      <th>Grand Place Brussels.1</th>\n",
       "      <th>Grand Place Brussels.2</th>\n",
       "      <th>Grand Place Brussels.3</th>\n",
       "    </tr>\n",
       "  </thead>\n",
       "  <tbody>\n",
       "    <tr>\n",
       "      <th>9</th>\n",
       "      <td>20140101T0000</td>\n",
       "      <td>6.4709435</td>\n",
       "      <td>91.90476</td>\n",
       "      <td>20.774214</td>\n",
       "      <td>207.89728</td>\n",
       "    </tr>\n",
       "    <tr>\n",
       "      <th>10</th>\n",
       "      <td>20140101T0100</td>\n",
       "      <td>6.840944</td>\n",
       "      <td>91.48526</td>\n",
       "      <td>20.592503</td>\n",
       "      <td>216.46924</td>\n",
       "    </tr>\n",
       "    <tr>\n",
       "      <th>11</th>\n",
       "      <td>20140101T0200</td>\n",
       "      <td>6.7509437</td>\n",
       "      <td>91.160164</td>\n",
       "      <td>19.296135</td>\n",
       "      <td>216.65611</td>\n",
       "    </tr>\n",
       "    <tr>\n",
       "      <th>12</th>\n",
       "      <td>20140101T0300</td>\n",
       "      <td>6.360944</td>\n",
       "      <td>89.92542</td>\n",
       "      <td>19.164717</td>\n",
       "      <td>208.00919</td>\n",
       "    </tr>\n",
       "    <tr>\n",
       "      <th>13</th>\n",
       "      <td>20140101T0400</td>\n",
       "      <td>6.0409436</td>\n",
       "      <td>88.89181</td>\n",
       "      <td>19.255793</td>\n",
       "      <td>200.8068</td>\n",
       "    </tr>\n",
       "  </tbody>\n",
       "</table>\n",
       "</div>"
      ],
      "text/plain": [
       "         location Grand Place Brussels Grand Place Brussels.1  \\\n",
       "9   20140101T0000            6.4709435               91.90476   \n",
       "10  20140101T0100             6.840944               91.48526   \n",
       "11  20140101T0200            6.7509437              91.160164   \n",
       "12  20140101T0300             6.360944               89.92542   \n",
       "13  20140101T0400            6.0409436               88.89181   \n",
       "\n",
       "   Grand Place Brussels.2 Grand Place Brussels.3  \n",
       "9               20.774214              207.89728  \n",
       "10              20.592503              216.46924  \n",
       "11              19.296135              216.65611  \n",
       "12              19.164717              208.00919  \n",
       "13              19.255793               200.8068  "
      ]
     },
     "execution_count": 53,
     "metadata": {},
     "output_type": "execute_result"
    }
   ],
   "source": [
    "df.head()"
   ]
  },
  {
   "cell_type": "code",
   "execution_count": 54,
   "metadata": {},
   "outputs": [],
   "source": [
    "df = df.rename(columns={\"location\": \"date_time\" ,\"Grand Place Brussels\": \"temperature\", \"Grand Place Brussels.1\": \"relative_humidity\", \"Grand Place Brussels.2\": \"wind_speed\", \"Grand Place Brussels.3\": \"wind_direction\"})"
   ]
  },
  {
   "cell_type": "code",
   "execution_count": 55,
   "metadata": {},
   "outputs": [],
   "source": [
    "df[\"year\"] = df[\"date_time\"].apply(lambda x: x[:4])"
   ]
  },
  {
   "cell_type": "code",
   "execution_count": 56,
   "metadata": {},
   "outputs": [],
   "source": [
    "df[\"month\"] = df[\"date_time\"].apply(lambda x: x[4:6])"
   ]
  },
  {
   "cell_type": "code",
   "execution_count": 57,
   "metadata": {},
   "outputs": [],
   "source": [
    "df[\"day\"] = df[\"date_time\"].apply(lambda x: x[6:8])"
   ]
  },
  {
   "cell_type": "code",
   "execution_count": 58,
   "metadata": {},
   "outputs": [],
   "source": [
    "df[\"time\"] = df[\"date_time\"].apply(lambda x: x[9:])"
   ]
  },
  {
   "cell_type": "code",
   "execution_count": 59,
   "metadata": {},
   "outputs": [
    {
     "data": {
      "text/html": [
       "<div>\n",
       "<style scoped>\n",
       "    .dataframe tbody tr th:only-of-type {\n",
       "        vertical-align: middle;\n",
       "    }\n",
       "\n",
       "    .dataframe tbody tr th {\n",
       "        vertical-align: top;\n",
       "    }\n",
       "\n",
       "    .dataframe thead th {\n",
       "        text-align: right;\n",
       "    }\n",
       "</style>\n",
       "<table border=\"1\" class=\"dataframe\">\n",
       "  <thead>\n",
       "    <tr style=\"text-align: right;\">\n",
       "      <th></th>\n",
       "      <th>date_time</th>\n",
       "      <th>temperature</th>\n",
       "      <th>relative_humidity</th>\n",
       "      <th>wind_speed</th>\n",
       "      <th>wind_direction</th>\n",
       "      <th>year</th>\n",
       "      <th>month</th>\n",
       "      <th>day</th>\n",
       "      <th>time</th>\n",
       "    </tr>\n",
       "  </thead>\n",
       "  <tbody>\n",
       "    <tr>\n",
       "      <th>9</th>\n",
       "      <td>20140101T0000</td>\n",
       "      <td>6.4709435</td>\n",
       "      <td>91.90476</td>\n",
       "      <td>20.774214</td>\n",
       "      <td>207.89728</td>\n",
       "      <td>2014</td>\n",
       "      <td>01</td>\n",
       "      <td>01</td>\n",
       "      <td>0000</td>\n",
       "    </tr>\n",
       "    <tr>\n",
       "      <th>10</th>\n",
       "      <td>20140101T0100</td>\n",
       "      <td>6.840944</td>\n",
       "      <td>91.48526</td>\n",
       "      <td>20.592503</td>\n",
       "      <td>216.46924</td>\n",
       "      <td>2014</td>\n",
       "      <td>01</td>\n",
       "      <td>01</td>\n",
       "      <td>0100</td>\n",
       "    </tr>\n",
       "    <tr>\n",
       "      <th>11</th>\n",
       "      <td>20140101T0200</td>\n",
       "      <td>6.7509437</td>\n",
       "      <td>91.160164</td>\n",
       "      <td>19.296135</td>\n",
       "      <td>216.65611</td>\n",
       "      <td>2014</td>\n",
       "      <td>01</td>\n",
       "      <td>01</td>\n",
       "      <td>0200</td>\n",
       "    </tr>\n",
       "    <tr>\n",
       "      <th>12</th>\n",
       "      <td>20140101T0300</td>\n",
       "      <td>6.360944</td>\n",
       "      <td>89.92542</td>\n",
       "      <td>19.164717</td>\n",
       "      <td>208.00919</td>\n",
       "      <td>2014</td>\n",
       "      <td>01</td>\n",
       "      <td>01</td>\n",
       "      <td>0300</td>\n",
       "    </tr>\n",
       "    <tr>\n",
       "      <th>13</th>\n",
       "      <td>20140101T0400</td>\n",
       "      <td>6.0409436</td>\n",
       "      <td>88.89181</td>\n",
       "      <td>19.255793</td>\n",
       "      <td>200.8068</td>\n",
       "      <td>2014</td>\n",
       "      <td>01</td>\n",
       "      <td>01</td>\n",
       "      <td>0400</td>\n",
       "    </tr>\n",
       "  </tbody>\n",
       "</table>\n",
       "</div>"
      ],
      "text/plain": [
       "        date_time temperature relative_humidity wind_speed wind_direction  \\\n",
       "9   20140101T0000   6.4709435          91.90476  20.774214      207.89728   \n",
       "10  20140101T0100    6.840944          91.48526  20.592503      216.46924   \n",
       "11  20140101T0200   6.7509437         91.160164  19.296135      216.65611   \n",
       "12  20140101T0300    6.360944          89.92542  19.164717      208.00919   \n",
       "13  20140101T0400   6.0409436          88.89181  19.255793       200.8068   \n",
       "\n",
       "    year month day  time  \n",
       "9   2014    01  01  0000  \n",
       "10  2014    01  01  0100  \n",
       "11  2014    01  01  0200  \n",
       "12  2014    01  01  0300  \n",
       "13  2014    01  01  0400  "
      ]
     },
     "execution_count": 59,
     "metadata": {},
     "output_type": "execute_result"
    }
   ],
   "source": [
    "df.head()"
   ]
  },
  {
   "cell_type": "code",
   "execution_count": 60,
   "metadata": {},
   "outputs": [],
   "source": [
    "df[\"time\"] = df[\"time\"].apply(lambda x: x[:2]).astype(float)"
   ]
  },
  {
   "cell_type": "code",
   "execution_count": 61,
   "metadata": {},
   "outputs": [
    {
     "data": {
      "text/html": [
       "<div>\n",
       "<style scoped>\n",
       "    .dataframe tbody tr th:only-of-type {\n",
       "        vertical-align: middle;\n",
       "    }\n",
       "\n",
       "    .dataframe tbody tr th {\n",
       "        vertical-align: top;\n",
       "    }\n",
       "\n",
       "    .dataframe thead th {\n",
       "        text-align: right;\n",
       "    }\n",
       "</style>\n",
       "<table border=\"1\" class=\"dataframe\">\n",
       "  <thead>\n",
       "    <tr style=\"text-align: right;\">\n",
       "      <th></th>\n",
       "      <th>date_time</th>\n",
       "      <th>temperature</th>\n",
       "      <th>relative_humidity</th>\n",
       "      <th>wind_speed</th>\n",
       "      <th>wind_direction</th>\n",
       "      <th>year</th>\n",
       "      <th>month</th>\n",
       "      <th>day</th>\n",
       "      <th>time</th>\n",
       "    </tr>\n",
       "  </thead>\n",
       "  <tbody>\n",
       "    <tr>\n",
       "      <th>9</th>\n",
       "      <td>20140101T0000</td>\n",
       "      <td>6.4709435</td>\n",
       "      <td>91.90476</td>\n",
       "      <td>20.774214</td>\n",
       "      <td>207.89728</td>\n",
       "      <td>2014</td>\n",
       "      <td>01</td>\n",
       "      <td>01</td>\n",
       "      <td>0.0</td>\n",
       "    </tr>\n",
       "    <tr>\n",
       "      <th>10</th>\n",
       "      <td>20140101T0100</td>\n",
       "      <td>6.840944</td>\n",
       "      <td>91.48526</td>\n",
       "      <td>20.592503</td>\n",
       "      <td>216.46924</td>\n",
       "      <td>2014</td>\n",
       "      <td>01</td>\n",
       "      <td>01</td>\n",
       "      <td>1.0</td>\n",
       "    </tr>\n",
       "    <tr>\n",
       "      <th>11</th>\n",
       "      <td>20140101T0200</td>\n",
       "      <td>6.7509437</td>\n",
       "      <td>91.160164</td>\n",
       "      <td>19.296135</td>\n",
       "      <td>216.65611</td>\n",
       "      <td>2014</td>\n",
       "      <td>01</td>\n",
       "      <td>01</td>\n",
       "      <td>2.0</td>\n",
       "    </tr>\n",
       "    <tr>\n",
       "      <th>12</th>\n",
       "      <td>20140101T0300</td>\n",
       "      <td>6.360944</td>\n",
       "      <td>89.92542</td>\n",
       "      <td>19.164717</td>\n",
       "      <td>208.00919</td>\n",
       "      <td>2014</td>\n",
       "      <td>01</td>\n",
       "      <td>01</td>\n",
       "      <td>3.0</td>\n",
       "    </tr>\n",
       "    <tr>\n",
       "      <th>13</th>\n",
       "      <td>20140101T0400</td>\n",
       "      <td>6.0409436</td>\n",
       "      <td>88.89181</td>\n",
       "      <td>19.255793</td>\n",
       "      <td>200.8068</td>\n",
       "      <td>2014</td>\n",
       "      <td>01</td>\n",
       "      <td>01</td>\n",
       "      <td>4.0</td>\n",
       "    </tr>\n",
       "  </tbody>\n",
       "</table>\n",
       "</div>"
      ],
      "text/plain": [
       "        date_time temperature relative_humidity wind_speed wind_direction  \\\n",
       "9   20140101T0000   6.4709435          91.90476  20.774214      207.89728   \n",
       "10  20140101T0100    6.840944          91.48526  20.592503      216.46924   \n",
       "11  20140101T0200   6.7509437         91.160164  19.296135      216.65611   \n",
       "12  20140101T0300    6.360944          89.92542  19.164717      208.00919   \n",
       "13  20140101T0400   6.0409436          88.89181  19.255793       200.8068   \n",
       "\n",
       "    year month day  time  \n",
       "9   2014    01  01   0.0  \n",
       "10  2014    01  01   1.0  \n",
       "11  2014    01  01   2.0  \n",
       "12  2014    01  01   3.0  \n",
       "13  2014    01  01   4.0  "
      ]
     },
     "execution_count": 61,
     "metadata": {},
     "output_type": "execute_result"
    }
   ],
   "source": [
    "df.head()"
   ]
  },
  {
   "cell_type": "code",
   "execution_count": 63,
   "metadata": {},
   "outputs": [],
   "source": [
    "df.to_csv(\"/Users/ilseeb/Downloads/Train Punctuality Data/weather_data.csv\")"
   ]
  },
  {
   "cell_type": "code",
   "execution_count": 65,
   "metadata": {},
   "outputs": [
    {
     "data": {
      "text/plain": [
       "date_time             object\n",
       "temperature           object\n",
       "relative_humidity     object\n",
       "wind_speed            object\n",
       "wind_direction        object\n",
       "year                  object\n",
       "month                 object\n",
       "day                   object\n",
       "time                 float64\n",
       "dtype: object"
      ]
     },
     "execution_count": 65,
     "metadata": {},
     "output_type": "execute_result"
    }
   ],
   "source": [
    "df.dtypes"
   ]
  }
 ],
 "metadata": {
  "kernelspec": {
   "display_name": "Python 3",
   "language": "python",
   "name": "python3"
  },
  "language_info": {
   "codemirror_mode": {
    "name": "ipython",
    "version": 3
   },
   "file_extension": ".py",
   "mimetype": "text/x-python",
   "name": "python",
   "nbconvert_exporter": "python",
   "pygments_lexer": "ipython3",
   "version": "3.9.7"
  },
  "orig_nbformat": 4,
  "vscode": {
   "interpreter": {
    "hash": "aee8b7b246df8f9039afb4144a1f6fd8d2ca17a180786b69acc140d282b71a49"
   }
  }
 },
 "nbformat": 4,
 "nbformat_minor": 2
}
