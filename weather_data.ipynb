{
 "cells": [
  {
   "cell_type": "code",
   "execution_count": 41,
   "metadata": {},
   "outputs": [],
   "source": [
    "#import libraries\n",
    "import pandas as pd\n",
    "import numpy as np"
   ]
  },
  {
   "cell_type": "code",
   "execution_count": 42,
   "metadata": {},
   "outputs": [],
   "source": [
    "df = pd.read_csv(\"/Users/ilseeb/Downloads/brussels_weather.csv\")"
   ]
  },
  {
   "cell_type": "code",
   "execution_count": 43,
   "metadata": {},
   "outputs": [
    {
     "data": {
      "text/html": [
       "<div>\n",
       "<style scoped>\n",
       "    .dataframe tbody tr th:only-of-type {\n",
       "        vertical-align: middle;\n",
       "    }\n",
       "\n",
       "    .dataframe tbody tr th {\n",
       "        vertical-align: top;\n",
       "    }\n",
       "\n",
       "    .dataframe thead th {\n",
       "        text-align: right;\n",
       "    }\n",
       "</style>\n",
       "<table border=\"1\" class=\"dataframe\">\n",
       "  <thead>\n",
       "    <tr style=\"text-align: right;\">\n",
       "      <th></th>\n",
       "      <th>location</th>\n",
       "      <th>Grand Place Brussels</th>\n",
       "      <th>Grand Place Brussels.1</th>\n",
       "      <th>Grand Place Brussels.2</th>\n",
       "      <th>Grand Place Brussels.3</th>\n",
       "    </tr>\n",
       "  </thead>\n",
       "  <tbody>\n",
       "    <tr>\n",
       "      <th>0</th>\n",
       "      <td>lat</td>\n",
       "      <td>50.75000</td>\n",
       "      <td>50.75000</td>\n",
       "      <td>50.75000</td>\n",
       "      <td>50.75000</td>\n",
       "    </tr>\n",
       "    <tr>\n",
       "      <th>1</th>\n",
       "      <td>lon</td>\n",
       "      <td>4.25000</td>\n",
       "      <td>4.25000</td>\n",
       "      <td>4.25000</td>\n",
       "      <td>4.25000</td>\n",
       "    </tr>\n",
       "    <tr>\n",
       "      <th>2</th>\n",
       "      <td>asl</td>\n",
       "      <td>65.530</td>\n",
       "      <td>65.530</td>\n",
       "      <td>65.530</td>\n",
       "      <td>65.530</td>\n",
       "    </tr>\n",
       "    <tr>\n",
       "      <th>3</th>\n",
       "      <td>variable</td>\n",
       "      <td>Temperature</td>\n",
       "      <td>Relative Humidity</td>\n",
       "      <td>Wind Speed</td>\n",
       "      <td>Wind Direction</td>\n",
       "    </tr>\n",
       "    <tr>\n",
       "      <th>4</th>\n",
       "      <td>unit</td>\n",
       "      <td>°C</td>\n",
       "      <td>%</td>\n",
       "      <td>km/h</td>\n",
       "      <td>°</td>\n",
       "    </tr>\n",
       "  </tbody>\n",
       "</table>\n",
       "</div>"
      ],
      "text/plain": [
       "   location Grand Place Brussels Grand Place Brussels.1  \\\n",
       "0       lat             50.75000               50.75000   \n",
       "1       lon              4.25000                4.25000   \n",
       "2       asl               65.530                 65.530   \n",
       "3  variable          Temperature      Relative Humidity   \n",
       "4      unit                   °C                      %   \n",
       "\n",
       "  Grand Place Brussels.2 Grand Place Brussels.3  \n",
       "0               50.75000               50.75000  \n",
       "1                4.25000                4.25000  \n",
       "2                 65.530                 65.530  \n",
       "3             Wind Speed         Wind Direction  \n",
       "4                   km/h                      °  "
      ]
     },
     "execution_count": 43,
     "metadata": {},
     "output_type": "execute_result"
    }
   ],
   "source": [
    "df.head()"
   ]
  },
  {
   "cell_type": "code",
   "execution_count": 44,
   "metadata": {},
   "outputs": [],
   "source": [
    "df.drop(df.index[:9], inplace=True)"
   ]
  },
  {
   "cell_type": "code",
   "execution_count": 45,
   "metadata": {},
   "outputs": [
    {
     "data": {
      "text/html": [
       "<div>\n",
       "<style scoped>\n",
       "    .dataframe tbody tr th:only-of-type {\n",
       "        vertical-align: middle;\n",
       "    }\n",
       "\n",
       "    .dataframe tbody tr th {\n",
       "        vertical-align: top;\n",
       "    }\n",
       "\n",
       "    .dataframe thead th {\n",
       "        text-align: right;\n",
       "    }\n",
       "</style>\n",
       "<table border=\"1\" class=\"dataframe\">\n",
       "  <thead>\n",
       "    <tr style=\"text-align: right;\">\n",
       "      <th></th>\n",
       "      <th>location</th>\n",
       "      <th>Grand Place Brussels</th>\n",
       "      <th>Grand Place Brussels.1</th>\n",
       "      <th>Grand Place Brussels.2</th>\n",
       "      <th>Grand Place Brussels.3</th>\n",
       "    </tr>\n",
       "  </thead>\n",
       "  <tbody>\n",
       "    <tr>\n",
       "      <th>9</th>\n",
       "      <td>20140101T0000</td>\n",
       "      <td>6.4709435</td>\n",
       "      <td>91.90476</td>\n",
       "      <td>20.774214</td>\n",
       "      <td>207.89728</td>\n",
       "    </tr>\n",
       "    <tr>\n",
       "      <th>10</th>\n",
       "      <td>20140101T0100</td>\n",
       "      <td>6.840944</td>\n",
       "      <td>91.48526</td>\n",
       "      <td>20.592503</td>\n",
       "      <td>216.46924</td>\n",
       "    </tr>\n",
       "    <tr>\n",
       "      <th>11</th>\n",
       "      <td>20140101T0200</td>\n",
       "      <td>6.7509437</td>\n",
       "      <td>91.160164</td>\n",
       "      <td>19.296135</td>\n",
       "      <td>216.65611</td>\n",
       "    </tr>\n",
       "    <tr>\n",
       "      <th>12</th>\n",
       "      <td>20140101T0300</td>\n",
       "      <td>6.360944</td>\n",
       "      <td>89.92542</td>\n",
       "      <td>19.164717</td>\n",
       "      <td>208.00919</td>\n",
       "    </tr>\n",
       "    <tr>\n",
       "      <th>13</th>\n",
       "      <td>20140101T0400</td>\n",
       "      <td>6.0409436</td>\n",
       "      <td>88.89181</td>\n",
       "      <td>19.255793</td>\n",
       "      <td>200.8068</td>\n",
       "    </tr>\n",
       "  </tbody>\n",
       "</table>\n",
       "</div>"
      ],
      "text/plain": [
       "         location Grand Place Brussels Grand Place Brussels.1  \\\n",
       "9   20140101T0000            6.4709435               91.90476   \n",
       "10  20140101T0100             6.840944               91.48526   \n",
       "11  20140101T0200            6.7509437              91.160164   \n",
       "12  20140101T0300             6.360944               89.92542   \n",
       "13  20140101T0400            6.0409436               88.89181   \n",
       "\n",
       "   Grand Place Brussels.2 Grand Place Brussels.3  \n",
       "9               20.774214              207.89728  \n",
       "10              20.592503              216.46924  \n",
       "11              19.296135              216.65611  \n",
       "12              19.164717              208.00919  \n",
       "13              19.255793               200.8068  "
      ]
     },
     "execution_count": 45,
     "metadata": {},
     "output_type": "execute_result"
    }
   ],
   "source": [
    "df.head()"
   ]
  },
  {
   "cell_type": "code",
   "execution_count": 46,
   "metadata": {},
   "outputs": [],
   "source": [
    "df = df.rename(columns={\"location\": \"date_time\" ,\"Grand Place Brussels\": \"temperature\", \"Grand Place Brussels.1\": \"relative_humidity\", \"Grand Place Brussels.2\": \"wind_speed\", \"Grand Place Brussels.3\": \"wind_direction\"})"
   ]
  },
  {
   "cell_type": "code",
   "execution_count": 47,
   "metadata": {},
   "outputs": [],
   "source": [
    "df[\"year\"] = df[\"date_time\"].apply(lambda x: x[:4])"
   ]
  },
  {
   "cell_type": "code",
   "execution_count": 48,
   "metadata": {},
   "outputs": [],
   "source": [
    "df[\"month\"] = df[\"date_time\"].apply(lambda x: x[4:6])"
   ]
  },
  {
   "cell_type": "code",
   "execution_count": 49,
   "metadata": {},
   "outputs": [],
   "source": [
    "df[\"day\"] = df[\"date_time\"].apply(lambda x: x[6:8])"
   ]
  },
  {
   "cell_type": "code",
   "execution_count": 50,
   "metadata": {},
   "outputs": [],
   "source": [
    "df[\"time\"] = df[\"date_time\"].apply(lambda x: x[9:])"
   ]
  },
  {
   "cell_type": "code",
   "execution_count": 51,
   "metadata": {},
   "outputs": [
    {
     "data": {
      "text/html": [
       "<div>\n",
       "<style scoped>\n",
       "    .dataframe tbody tr th:only-of-type {\n",
       "        vertical-align: middle;\n",
       "    }\n",
       "\n",
       "    .dataframe tbody tr th {\n",
       "        vertical-align: top;\n",
       "    }\n",
       "\n",
       "    .dataframe thead th {\n",
       "        text-align: right;\n",
       "    }\n",
       "</style>\n",
       "<table border=\"1\" class=\"dataframe\">\n",
       "  <thead>\n",
       "    <tr style=\"text-align: right;\">\n",
       "      <th></th>\n",
       "      <th>date_time</th>\n",
       "      <th>temperature</th>\n",
       "      <th>relative_humidity</th>\n",
       "      <th>wind_speed</th>\n",
       "      <th>wind_direction</th>\n",
       "      <th>year</th>\n",
       "      <th>month</th>\n",
       "      <th>day</th>\n",
       "      <th>time</th>\n",
       "    </tr>\n",
       "  </thead>\n",
       "  <tbody>\n",
       "    <tr>\n",
       "      <th>78892</th>\n",
       "      <td>20221231T1900</td>\n",
       "      <td>14.870944</td>\n",
       "      <td>61.63304</td>\n",
       "      <td>35.747112</td>\n",
       "      <td>207.59729</td>\n",
       "      <td>2022</td>\n",
       "      <td>12</td>\n",
       "      <td>31</td>\n",
       "      <td>1900</td>\n",
       "    </tr>\n",
       "    <tr>\n",
       "      <th>78893</th>\n",
       "      <td>20221231T2000</td>\n",
       "      <td>14.9309435</td>\n",
       "      <td>59.61046</td>\n",
       "      <td>38.64764</td>\n",
       "      <td>207.75854</td>\n",
       "      <td>2022</td>\n",
       "      <td>12</td>\n",
       "      <td>31</td>\n",
       "      <td>2000</td>\n",
       "    </tr>\n",
       "    <tr>\n",
       "      <th>78894</th>\n",
       "      <td>20221231T2100</td>\n",
       "      <td>14.920943</td>\n",
       "      <td>59.11822</td>\n",
       "      <td>41.060516</td>\n",
       "      <td>211.73914</td>\n",
       "      <td>2022</td>\n",
       "      <td>12</td>\n",
       "      <td>31</td>\n",
       "      <td>2100</td>\n",
       "    </tr>\n",
       "    <tr>\n",
       "      <th>78895</th>\n",
       "      <td>20221231T2200</td>\n",
       "      <td>14.960943</td>\n",
       "      <td>57.24432</td>\n",
       "      <td>40.14121</td>\n",
       "      <td>214.40266</td>\n",
       "      <td>2022</td>\n",
       "      <td>12</td>\n",
       "      <td>31</td>\n",
       "      <td>2200</td>\n",
       "    </tr>\n",
       "    <tr>\n",
       "      <th>78896</th>\n",
       "      <td>20221231T2300</td>\n",
       "      <td>14.890944</td>\n",
       "      <td>56.479618</td>\n",
       "      <td>39.97459</td>\n",
       "      <td>218.41806</td>\n",
       "      <td>2022</td>\n",
       "      <td>12</td>\n",
       "      <td>31</td>\n",
       "      <td>2300</td>\n",
       "    </tr>\n",
       "  </tbody>\n",
       "</table>\n",
       "</div>"
      ],
      "text/plain": [
       "           date_time temperature relative_humidity wind_speed wind_direction  \\\n",
       "78892  20221231T1900   14.870944          61.63304  35.747112      207.59729   \n",
       "78893  20221231T2000  14.9309435          59.61046   38.64764      207.75854   \n",
       "78894  20221231T2100   14.920943          59.11822  41.060516      211.73914   \n",
       "78895  20221231T2200   14.960943          57.24432   40.14121      214.40266   \n",
       "78896  20221231T2300   14.890944         56.479618   39.97459      218.41806   \n",
       "\n",
       "       year month day  time  \n",
       "78892  2022    12  31  1900  \n",
       "78893  2022    12  31  2000  \n",
       "78894  2022    12  31  2100  \n",
       "78895  2022    12  31  2200  \n",
       "78896  2022    12  31  2300  "
      ]
     },
     "execution_count": 51,
     "metadata": {},
     "output_type": "execute_result"
    }
   ],
   "source": [
    "df.tail()"
   ]
  }
 ],
 "metadata": {
  "kernelspec": {
   "display_name": "Python 3",
   "language": "python",
   "name": "python3"
  },
  "language_info": {
   "codemirror_mode": {
    "name": "ipython",
    "version": 3
   },
   "file_extension": ".py",
   "mimetype": "text/x-python",
   "name": "python",
   "nbconvert_exporter": "python",
   "pygments_lexer": "ipython3",
   "version": "3.9.7"
  },
  "orig_nbformat": 4,
  "vscode": {
   "interpreter": {
    "hash": "aee8b7b246df8f9039afb4144a1f6fd8d2ca17a180786b69acc140d282b71a49"
   }
  }
 },
 "nbformat": 4,
 "nbformat_minor": 2
}
