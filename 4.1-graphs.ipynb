{
 "cells": [
  {
   "cell_type": "code",
   "execution_count": 74,
   "metadata": {},
   "outputs": [],
   "source": [
    "import pandas as pd\n",
    "import numpy as np\n",
    "import matplotlib.pyplot as plt\n",
    "\n",
    "pd.set_option(\"display.max_columns\", None)"
   ]
  },
  {
   "cell_type": "code",
   "execution_count": 75,
   "metadata": {},
   "outputs": [],
   "source": [
    "df = pd.read_pickle(\"/Users/ilseeb/Desktop/Postgraduate/Train Punctuality Data/df_train_delays.pkl\")"
   ]
  },
  {
   "cell_type": "code",
   "execution_count": 76,
   "metadata": {},
   "outputs": [
    {
     "data": {
      "text/html": [
       "<div>\n",
       "<style scoped>\n",
       "    .dataframe tbody tr th:only-of-type {\n",
       "        vertical-align: middle;\n",
       "    }\n",
       "\n",
       "    .dataframe tbody tr th {\n",
       "        vertical-align: top;\n",
       "    }\n",
       "\n",
       "    .dataframe thead th {\n",
       "        text-align: right;\n",
       "    }\n",
       "</style>\n",
       "<table border=\"1\" class=\"dataframe\">\n",
       "  <thead>\n",
       "    <tr style=\"text-align: right;\">\n",
       "      <th></th>\n",
       "      <th>train_serv</th>\n",
       "      <th>delayed</th>\n",
       "      <th>month</th>\n",
       "      <th>destination_region</th>\n",
       "      <th>departure_region</th>\n",
       "      <th>temperature</th>\n",
       "      <th>relative_humidity</th>\n",
       "      <th>wind_speed</th>\n",
       "      <th>wind_direction</th>\n",
       "      <th>time_of_day</th>\n",
       "      <th>date</th>\n",
       "      <th>day_of_week</th>\n",
       "    </tr>\n",
       "  </thead>\n",
       "  <tbody>\n",
       "    <tr>\n",
       "      <th>0</th>\n",
       "      <td>SNCB/NMBS</td>\n",
       "      <td>False</td>\n",
       "      <td>JAN</td>\n",
       "      <td>BRUSSELS-CAPITAL REGION</td>\n",
       "      <td>WALLONIA</td>\n",
       "      <td>9.590943</td>\n",
       "      <td>84.870130</td>\n",
       "      <td>35.428463</td>\n",
       "      <td>185.24713</td>\n",
       "      <td>night</td>\n",
       "      <td>2014-01-01</td>\n",
       "      <td>Wednesday</td>\n",
       "    </tr>\n",
       "    <tr>\n",
       "      <th>1</th>\n",
       "      <td>SNCB/NMBS</td>\n",
       "      <td>False</td>\n",
       "      <td>JAN</td>\n",
       "      <td>BRUSSELS-CAPITAL REGION</td>\n",
       "      <td>FLANDERS</td>\n",
       "      <td>6.050944</td>\n",
       "      <td>86.606674</td>\n",
       "      <td>23.784530</td>\n",
       "      <td>182.60257</td>\n",
       "      <td>morning</td>\n",
       "      <td>2014-01-01</td>\n",
       "      <td>Wednesday</td>\n",
       "    </tr>\n",
       "    <tr>\n",
       "      <th>2</th>\n",
       "      <td>SNCB/NMBS</td>\n",
       "      <td>False</td>\n",
       "      <td>JAN</td>\n",
       "      <td>FLANDERS</td>\n",
       "      <td>BRUSSELS-CAPITAL REGION</td>\n",
       "      <td>5.240944</td>\n",
       "      <td>89.317700</td>\n",
       "      <td>21.749481</td>\n",
       "      <td>192.42595</td>\n",
       "      <td>morning</td>\n",
       "      <td>2014-01-01</td>\n",
       "      <td>Wednesday</td>\n",
       "    </tr>\n",
       "    <tr>\n",
       "      <th>3</th>\n",
       "      <td>SNCB/NMBS</td>\n",
       "      <td>False</td>\n",
       "      <td>JAN</td>\n",
       "      <td>BRUSSELS-CAPITAL REGION</td>\n",
       "      <td>FLANDERS</td>\n",
       "      <td>6.840944</td>\n",
       "      <td>83.881490</td>\n",
       "      <td>23.770906</td>\n",
       "      <td>178.26430</td>\n",
       "      <td>morning</td>\n",
       "      <td>2014-01-01</td>\n",
       "      <td>Wednesday</td>\n",
       "    </tr>\n",
       "    <tr>\n",
       "      <th>4</th>\n",
       "      <td>SNCB/NMBS</td>\n",
       "      <td>False</td>\n",
       "      <td>JAN</td>\n",
       "      <td>BRUSSELS-CAPITAL REGION</td>\n",
       "      <td>FLANDERS</td>\n",
       "      <td>7.490944</td>\n",
       "      <td>82.104470</td>\n",
       "      <td>22.253124</td>\n",
       "      <td>170.69006</td>\n",
       "      <td>afternoon</td>\n",
       "      <td>2014-01-01</td>\n",
       "      <td>Wednesday</td>\n",
       "    </tr>\n",
       "  </tbody>\n",
       "</table>\n",
       "</div>"
      ],
      "text/plain": [
       "  train_serv  delayed month       destination_region         departure_region  \\\n",
       "0  SNCB/NMBS    False   JAN  BRUSSELS-CAPITAL REGION                 WALLONIA   \n",
       "1  SNCB/NMBS    False   JAN  BRUSSELS-CAPITAL REGION                 FLANDERS   \n",
       "2  SNCB/NMBS    False   JAN                 FLANDERS  BRUSSELS-CAPITAL REGION   \n",
       "3  SNCB/NMBS    False   JAN  BRUSSELS-CAPITAL REGION                 FLANDERS   \n",
       "4  SNCB/NMBS    False   JAN  BRUSSELS-CAPITAL REGION                 FLANDERS   \n",
       "\n",
       "   temperature  relative_humidity  wind_speed  wind_direction time_of_day  \\\n",
       "0     9.590943          84.870130   35.428463       185.24713       night   \n",
       "1     6.050944          86.606674   23.784530       182.60257     morning   \n",
       "2     5.240944          89.317700   21.749481       192.42595     morning   \n",
       "3     6.840944          83.881490   23.770906       178.26430     morning   \n",
       "4     7.490944          82.104470   22.253124       170.69006   afternoon   \n",
       "\n",
       "        date day_of_week  \n",
       "0 2014-01-01   Wednesday  \n",
       "1 2014-01-01   Wednesday  \n",
       "2 2014-01-01   Wednesday  \n",
       "3 2014-01-01   Wednesday  \n",
       "4 2014-01-01   Wednesday  "
      ]
     },
     "execution_count": 76,
     "metadata": {},
     "output_type": "execute_result"
    }
   ],
   "source": [
    "df.head()"
   ]
  },
  {
   "cell_type": "code",
   "execution_count": 77,
   "metadata": {},
   "outputs": [],
   "source": [
    "df_delayed = df[df[\"delayed\"] == True]"
   ]
  },
  {
   "cell_type": "code",
   "execution_count": 78,
   "metadata": {},
   "outputs": [
    {
     "data": {
      "text/html": [
       "<div>\n",
       "<style scoped>\n",
       "    .dataframe tbody tr th:only-of-type {\n",
       "        vertical-align: middle;\n",
       "    }\n",
       "\n",
       "    .dataframe tbody tr th {\n",
       "        vertical-align: top;\n",
       "    }\n",
       "\n",
       "    .dataframe thead th {\n",
       "        text-align: right;\n",
       "    }\n",
       "</style>\n",
       "<table border=\"1\" class=\"dataframe\">\n",
       "  <thead>\n",
       "    <tr style=\"text-align: right;\">\n",
       "      <th></th>\n",
       "      <th>train_serv</th>\n",
       "      <th>delayed</th>\n",
       "      <th>month</th>\n",
       "      <th>destination_region</th>\n",
       "      <th>departure_region</th>\n",
       "      <th>temperature</th>\n",
       "      <th>relative_humidity</th>\n",
       "      <th>wind_speed</th>\n",
       "      <th>wind_direction</th>\n",
       "      <th>time_of_day</th>\n",
       "      <th>date</th>\n",
       "      <th>day_of_week</th>\n",
       "    </tr>\n",
       "  </thead>\n",
       "  <tbody>\n",
       "    <tr>\n",
       "      <th>5</th>\n",
       "      <td>SNCB/NMBS</td>\n",
       "      <td>True</td>\n",
       "      <td>JAN</td>\n",
       "      <td>FLANDERS</td>\n",
       "      <td>BRUSSELS-CAPITAL REGION</td>\n",
       "      <td>5.520944</td>\n",
       "      <td>88.527885</td>\n",
       "      <td>22.065973</td>\n",
       "      <td>185.61758</td>\n",
       "      <td>morning</td>\n",
       "      <td>2014-01-01</td>\n",
       "      <td>Wednesday</td>\n",
       "    </tr>\n",
       "    <tr>\n",
       "      <th>15</th>\n",
       "      <td>SNCB/NMBS</td>\n",
       "      <td>True</td>\n",
       "      <td>JAN</td>\n",
       "      <td>BRUSSELS-CAPITAL REGION</td>\n",
       "      <td>FLANDERS</td>\n",
       "      <td>9.760943</td>\n",
       "      <td>80.675850</td>\n",
       "      <td>35.325890</td>\n",
       "      <td>182.92072</td>\n",
       "      <td>night</td>\n",
       "      <td>2014-01-01</td>\n",
       "      <td>Wednesday</td>\n",
       "    </tr>\n",
       "    <tr>\n",
       "      <th>25</th>\n",
       "      <td>SNCB/NMBS</td>\n",
       "      <td>True</td>\n",
       "      <td>JAN</td>\n",
       "      <td>FLANDERS</td>\n",
       "      <td>FLANDERS</td>\n",
       "      <td>5.310944</td>\n",
       "      <td>89.072090</td>\n",
       "      <td>21.897945</td>\n",
       "      <td>189.46233</td>\n",
       "      <td>morning</td>\n",
       "      <td>2014-01-01</td>\n",
       "      <td>Wednesday</td>\n",
       "    </tr>\n",
       "    <tr>\n",
       "      <th>35</th>\n",
       "      <td>SNCB/NMBS</td>\n",
       "      <td>True</td>\n",
       "      <td>JAN</td>\n",
       "      <td>FLANDERS</td>\n",
       "      <td>FLANDERS</td>\n",
       "      <td>9.250944</td>\n",
       "      <td>81.048710</td>\n",
       "      <td>33.857227</td>\n",
       "      <td>181.82797</td>\n",
       "      <td>night</td>\n",
       "      <td>2014-01-01</td>\n",
       "      <td>Wednesday</td>\n",
       "    </tr>\n",
       "    <tr>\n",
       "      <th>36</th>\n",
       "      <td>SNCB/NMBS</td>\n",
       "      <td>True</td>\n",
       "      <td>JAN</td>\n",
       "      <td>FLANDERS</td>\n",
       "      <td>FLANDERS</td>\n",
       "      <td>9.530944</td>\n",
       "      <td>81.033230</td>\n",
       "      <td>34.921856</td>\n",
       "      <td>180.59065</td>\n",
       "      <td>night</td>\n",
       "      <td>2014-01-01</td>\n",
       "      <td>Wednesday</td>\n",
       "    </tr>\n",
       "  </tbody>\n",
       "</table>\n",
       "</div>"
      ],
      "text/plain": [
       "   train_serv  delayed month       destination_region  \\\n",
       "5   SNCB/NMBS     True   JAN                 FLANDERS   \n",
       "15  SNCB/NMBS     True   JAN  BRUSSELS-CAPITAL REGION   \n",
       "25  SNCB/NMBS     True   JAN                 FLANDERS   \n",
       "35  SNCB/NMBS     True   JAN                 FLANDERS   \n",
       "36  SNCB/NMBS     True   JAN                 FLANDERS   \n",
       "\n",
       "           departure_region  temperature  relative_humidity  wind_speed  \\\n",
       "5   BRUSSELS-CAPITAL REGION     5.520944          88.527885   22.065973   \n",
       "15                 FLANDERS     9.760943          80.675850   35.325890   \n",
       "25                 FLANDERS     5.310944          89.072090   21.897945   \n",
       "35                 FLANDERS     9.250944          81.048710   33.857227   \n",
       "36                 FLANDERS     9.530944          81.033230   34.921856   \n",
       "\n",
       "    wind_direction time_of_day       date day_of_week  \n",
       "5        185.61758     morning 2014-01-01   Wednesday  \n",
       "15       182.92072       night 2014-01-01   Wednesday  \n",
       "25       189.46233     morning 2014-01-01   Wednesday  \n",
       "35       181.82797       night 2014-01-01   Wednesday  \n",
       "36       180.59065       night 2014-01-01   Wednesday  "
      ]
     },
     "execution_count": 78,
     "metadata": {},
     "output_type": "execute_result"
    }
   ],
   "source": [
    "df_delayed.head()"
   ]
  },
  {
   "cell_type": "code",
   "execution_count": 79,
   "metadata": {},
   "outputs": [],
   "source": [
    "df_delayed_count = df_delayed.groupby([df[\"date\"]]).count()"
   ]
  },
  {
   "cell_type": "code",
   "execution_count": 80,
   "metadata": {},
   "outputs": [],
   "source": [
    "df_delayed_count = df_delayed_count[[\"delayed\"]]"
   ]
  },
  {
   "cell_type": "code",
   "execution_count": 81,
   "metadata": {},
   "outputs": [
    {
     "data": {
      "text/html": [
       "<div>\n",
       "<style scoped>\n",
       "    .dataframe tbody tr th:only-of-type {\n",
       "        vertical-align: middle;\n",
       "    }\n",
       "\n",
       "    .dataframe tbody tr th {\n",
       "        vertical-align: top;\n",
       "    }\n",
       "\n",
       "    .dataframe thead th {\n",
       "        text-align: right;\n",
       "    }\n",
       "</style>\n",
       "<table border=\"1\" class=\"dataframe\">\n",
       "  <thead>\n",
       "    <tr style=\"text-align: right;\">\n",
       "      <th></th>\n",
       "      <th>delayed</th>\n",
       "    </tr>\n",
       "    <tr>\n",
       "      <th>date</th>\n",
       "      <th></th>\n",
       "    </tr>\n",
       "  </thead>\n",
       "  <tbody>\n",
       "    <tr>\n",
       "      <th>2014-01-01</th>\n",
       "      <td>29</td>\n",
       "    </tr>\n",
       "    <tr>\n",
       "      <th>2014-01-02</th>\n",
       "      <td>71</td>\n",
       "    </tr>\n",
       "    <tr>\n",
       "      <th>2014-01-03</th>\n",
       "      <td>44</td>\n",
       "    </tr>\n",
       "    <tr>\n",
       "      <th>2014-01-04</th>\n",
       "      <td>132</td>\n",
       "    </tr>\n",
       "    <tr>\n",
       "      <th>2014-01-05</th>\n",
       "      <td>51</td>\n",
       "    </tr>\n",
       "  </tbody>\n",
       "</table>\n",
       "</div>"
      ],
      "text/plain": [
       "            delayed\n",
       "date               \n",
       "2014-01-01       29\n",
       "2014-01-02       71\n",
       "2014-01-03       44\n",
       "2014-01-04      132\n",
       "2014-01-05       51"
      ]
     },
     "execution_count": 81,
     "metadata": {},
     "output_type": "execute_result"
    }
   ],
   "source": [
    "df_delayed_count.head()"
   ]
  },
  {
   "cell_type": "code",
   "execution_count": 82,
   "metadata": {},
   "outputs": [],
   "source": [
    "df_delayed_count.reset_index(inplace=True)"
   ]
  },
  {
   "cell_type": "code",
   "execution_count": 83,
   "metadata": {},
   "outputs": [
    {
     "data": {
      "text/html": [
       "<div>\n",
       "<style scoped>\n",
       "    .dataframe tbody tr th:only-of-type {\n",
       "        vertical-align: middle;\n",
       "    }\n",
       "\n",
       "    .dataframe tbody tr th {\n",
       "        vertical-align: top;\n",
       "    }\n",
       "\n",
       "    .dataframe thead th {\n",
       "        text-align: right;\n",
       "    }\n",
       "</style>\n",
       "<table border=\"1\" class=\"dataframe\">\n",
       "  <thead>\n",
       "    <tr style=\"text-align: right;\">\n",
       "      <th></th>\n",
       "      <th>date</th>\n",
       "      <th>delayed</th>\n",
       "    </tr>\n",
       "  </thead>\n",
       "  <tbody>\n",
       "    <tr>\n",
       "      <th>0</th>\n",
       "      <td>2014-01-01</td>\n",
       "      <td>29</td>\n",
       "    </tr>\n",
       "    <tr>\n",
       "      <th>1</th>\n",
       "      <td>2014-01-02</td>\n",
       "      <td>71</td>\n",
       "    </tr>\n",
       "    <tr>\n",
       "      <th>2</th>\n",
       "      <td>2014-01-03</td>\n",
       "      <td>44</td>\n",
       "    </tr>\n",
       "    <tr>\n",
       "      <th>3</th>\n",
       "      <td>2014-01-04</td>\n",
       "      <td>132</td>\n",
       "    </tr>\n",
       "    <tr>\n",
       "      <th>4</th>\n",
       "      <td>2014-01-05</td>\n",
       "      <td>51</td>\n",
       "    </tr>\n",
       "  </tbody>\n",
       "</table>\n",
       "</div>"
      ],
      "text/plain": [
       "        date  delayed\n",
       "0 2014-01-01       29\n",
       "1 2014-01-02       71\n",
       "2 2014-01-03       44\n",
       "3 2014-01-04      132\n",
       "4 2014-01-05       51"
      ]
     },
     "execution_count": 83,
     "metadata": {},
     "output_type": "execute_result"
    }
   ],
   "source": [
    "df_delayed_count.head()"
   ]
  },
  {
   "cell_type": "code",
   "execution_count": 84,
   "metadata": {},
   "outputs": [],
   "source": [
    "df_delayed_count[\"year\"] = pd.DatetimeIndex(df_delayed_count['date']).year\n",
    "df_delayed_count[\"month\"] = pd.DatetimeIndex(df_delayed_count['date']).month"
   ]
  },
  {
   "cell_type": "code",
   "execution_count": 85,
   "metadata": {},
   "outputs": [
    {
     "data": {
      "text/html": [
       "<div>\n",
       "<style scoped>\n",
       "    .dataframe tbody tr th:only-of-type {\n",
       "        vertical-align: middle;\n",
       "    }\n",
       "\n",
       "    .dataframe tbody tr th {\n",
       "        vertical-align: top;\n",
       "    }\n",
       "\n",
       "    .dataframe thead th {\n",
       "        text-align: right;\n",
       "    }\n",
       "</style>\n",
       "<table border=\"1\" class=\"dataframe\">\n",
       "  <thead>\n",
       "    <tr style=\"text-align: right;\">\n",
       "      <th></th>\n",
       "      <th>date</th>\n",
       "      <th>delayed</th>\n",
       "      <th>year</th>\n",
       "      <th>month</th>\n",
       "    </tr>\n",
       "  </thead>\n",
       "  <tbody>\n",
       "    <tr>\n",
       "      <th>0</th>\n",
       "      <td>2014-01-01</td>\n",
       "      <td>29</td>\n",
       "      <td>2014</td>\n",
       "      <td>1</td>\n",
       "    </tr>\n",
       "    <tr>\n",
       "      <th>1</th>\n",
       "      <td>2014-01-02</td>\n",
       "      <td>71</td>\n",
       "      <td>2014</td>\n",
       "      <td>1</td>\n",
       "    </tr>\n",
       "    <tr>\n",
       "      <th>2</th>\n",
       "      <td>2014-01-03</td>\n",
       "      <td>44</td>\n",
       "      <td>2014</td>\n",
       "      <td>1</td>\n",
       "    </tr>\n",
       "    <tr>\n",
       "      <th>3</th>\n",
       "      <td>2014-01-04</td>\n",
       "      <td>132</td>\n",
       "      <td>2014</td>\n",
       "      <td>1</td>\n",
       "    </tr>\n",
       "    <tr>\n",
       "      <th>4</th>\n",
       "      <td>2014-01-05</td>\n",
       "      <td>51</td>\n",
       "      <td>2014</td>\n",
       "      <td>1</td>\n",
       "    </tr>\n",
       "  </tbody>\n",
       "</table>\n",
       "</div>"
      ],
      "text/plain": [
       "        date  delayed  year  month\n",
       "0 2014-01-01       29  2014      1\n",
       "1 2014-01-02       71  2014      1\n",
       "2 2014-01-03       44  2014      1\n",
       "3 2014-01-04      132  2014      1\n",
       "4 2014-01-05       51  2014      1"
      ]
     },
     "execution_count": 85,
     "metadata": {},
     "output_type": "execute_result"
    }
   ],
   "source": [
    "df_delayed_count.head()"
   ]
  },
  {
   "cell_type": "code",
   "execution_count": 87,
   "metadata": {},
   "outputs": [
    {
     "data": {
      "text/plain": [
       "<BarContainer object of 365 artists>"
      ]
     },
     "execution_count": 87,
     "metadata": {},
     "output_type": "execute_result"
    },
    {
     "data": {
      "image/png": "[encoded data removed]",
      "text/plain": [
       "<Figure size 640x480 with 1 Axes>"
      ]
     },
     "metadata": {},
     "output_type": "display_data"
    }
   ],
   "source": [
    "df_delayed_count_2014 = df_delayed_count[df_delayed_count[\"year\"]==2014]\n",
    "plt.bar(df_delayed_count_2014[\"month\"], df_delayed_count_2014[\"delayed\"])"
   ]
  },
  {
   "cell_type": "code",
   "execution_count": 88,
   "metadata": {},
   "outputs": [
    {
     "data": {
      "text/plain": [
       "<BarContainer object of 365 artists>"
      ]
     },
     "execution_count": 88,
     "metadata": {},
     "output_type": "execute_result"
    },
    {
     "data": {
      "image/png": "[encoded data removed]",
      "text/plain": [
       "<Figure size 640x480 with 1 Axes>"
      ]
     },
     "metadata": {},
     "output_type": "display_data"
    }
   ],
   "source": [
    "df_delayed_count_2015 = df_delayed_count[df_delayed_count[\"year\"]==2015]\n",
    "plt.bar(df_delayed_count_2015[\"month\"], df_delayed_count_2015[\"delayed\"])"
   ]
  },
  {
   "cell_type": "code",
   "execution_count": 89,
   "metadata": {},
   "outputs": [
    {
     "data": {
      "text/plain": [
       "<BarContainer object of 366 artists>"
      ]
     },
     "execution_count": 89,
     "metadata": {},
     "output_type": "execute_result"
    },
    {
     "data": {
      "image/png": "[encoded data removed]",
      "text/plain": [
       "<Figure size 640x480 with 1 Axes>"
      ]
     },
     "metadata": {},
     "output_type": "display_data"
    }
   ],
   "source": [
    "df_delayed_count_2016 = df_delayed_count[df_delayed_count[\"year\"]==2016]\n",
    "plt.bar(df_delayed_count_2016[\"month\"], df_delayed_count_2016[\"delayed\"])"
   ]
  },
  {
   "cell_type": "code",
   "execution_count": 90,
   "metadata": {},
   "outputs": [
    {
     "data": {
      "text/plain": [
       "<BarContainer object of 362 artists>"
      ]
     },
     "execution_count": 90,
     "metadata": {},
     "output_type": "execute_result"
    },
    {
     "data": {
      "image/png": "[encoded data removed]",
      "text/plain": [
       "<Figure size 640x480 with 1 Axes>"
      ]
     },
     "metadata": {},
     "output_type": "display_data"
    }
   ],
   "source": [
    "df_delayed_count_2017 = df_delayed_count[df_delayed_count[\"year\"]==2017]\n",
    "plt.bar(df_delayed_count_2017[\"month\"], df_delayed_count_2017[\"delayed\"])"
   ]
  },
  {
   "cell_type": "code",
   "execution_count": 91,
   "metadata": {},
   "outputs": [
    {
     "data": {
      "text/plain": [
       "<BarContainer object of 3284 artists>"
      ]
     },
     "execution_count": 91,
     "metadata": {},
     "output_type": "execute_result"
    },
    {
     "data": {
      "image/png": "[encoded data removed]",
      "text/plain": [
       "<Figure size 640x480 with 1 Axes>"
      ]
     },
     "metadata": {},
     "output_type": "display_data"
    }
   ],
   "source": [
    "plt.bar(df_delayed_count[\"month\"], df_delayed_count[\"delayed\"])"
   ]
  },
  {
   "cell_type": "code",
   "execution_count": 102,
   "metadata": {},
   "outputs": [],
   "source": [
    "df_delayed_destination = df_delayed.groupby([df[\"destination_region\"]]).count()\n",
    "df_delayed_destination.drop(columns=['train_serv', 'month', 'destination_region',\n",
    "       'departure_region', 'temperature', 'relative_humidity', 'wind_speed',\n",
    "       'wind_direction', 'time_of_day', 'date', 'day_of_week'], inplace=True)\n",
    "df_delayed_destination.reset_index(inplace=True)"
   ]
  },
  {
   "cell_type": "code",
   "execution_count": 103,
   "metadata": {},
   "outputs": [
    {
     "data": {
      "text/html": [
       "<div>\n",
       "<style scoped>\n",
       "    .dataframe tbody tr th:only-of-type {\n",
       "        vertical-align: middle;\n",
       "    }\n",
       "\n",
       "    .dataframe tbody tr th {\n",
       "        vertical-align: top;\n",
       "    }\n",
       "\n",
       "    .dataframe thead th {\n",
       "        text-align: right;\n",
       "    }\n",
       "</style>\n",
       "<table border=\"1\" class=\"dataframe\">\n",
       "  <thead>\n",
       "    <tr style=\"text-align: right;\">\n",
       "      <th></th>\n",
       "      <th>destination_region</th>\n",
       "      <th>delayed</th>\n",
       "    </tr>\n",
       "  </thead>\n",
       "  <tbody>\n",
       "    <tr>\n",
       "      <th>0</th>\n",
       "      <td>BRUSSELS-CAPITAL REGION</td>\n",
       "      <td>138881</td>\n",
       "    </tr>\n",
       "    <tr>\n",
       "      <th>1</th>\n",
       "      <td>FLANDERS</td>\n",
       "      <td>185993</td>\n",
       "    </tr>\n",
       "    <tr>\n",
       "      <th>2</th>\n",
       "      <td>WALLONIA</td>\n",
       "      <td>104250</td>\n",
       "    </tr>\n",
       "  </tbody>\n",
       "</table>\n",
       "</div>"
      ],
      "text/plain": [
       "        destination_region  delayed\n",
       "0  BRUSSELS-CAPITAL REGION   138881\n",
       "1                 FLANDERS   185993\n",
       "2                 WALLONIA   104250"
      ]
     },
     "execution_count": 103,
     "metadata": {},
     "output_type": "execute_result"
    }
   ],
   "source": [
    "df_delayed_destination"
   ]
  },
  {
   "cell_type": "code",
   "execution_count": 105,
   "metadata": {},
   "outputs": [
    {
     "data": {
      "text/plain": [
       "<BarContainer object of 3 artists>"
      ]
     },
     "execution_count": 105,
     "metadata": {},
     "output_type": "execute_result"
    },
    {
     "data": {
      "image/png": "[encoded data removed]",
      "text/plain": [
       "<Figure size 640x480 with 1 Axes>"
      ]
     },
     "metadata": {},
     "output_type": "display_data"
    }
   ],
   "source": [
    "plt.bar(df_delayed_destination[\"destination_region\"], df_delayed_destination[\"delayed\"])"
   ]
  }
 ],
 "metadata": {
  "kernelspec": {
   "display_name": "Python 3",
   "language": "python",
   "name": "python3"
  },
  "language_info": {
   "codemirror_mode": {
    "name": "ipython",
    "version": 3
   },
   "file_extension": ".py",
   "mimetype": "text/x-python",
   "name": "python",
   "nbconvert_exporter": "python",
   "pygments_lexer": "ipython3",
   "version": "3.9.7"
  },
  "orig_nbformat": 4,
  "vscode": {
   "interpreter": {
    "hash": "aee8b7b246df8f9039afb4144a1f6fd8d2ca17a180786b69acc140d282b71a49"
   }
  }
 },
 "nbformat": 4,
 "nbformat_minor": 2
}
