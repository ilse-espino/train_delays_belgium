{
 "cells": [
  {
   "cell_type": "code",
   "execution_count": 1,
   "metadata": {},
   "outputs": [],
   "source": [
    "import pandas as pd\n",
    "from sklearn.feature_selection import RFECV\n",
    "from sklearn.ensemble import RandomForestClassifier\n",
    "from sklearn.svm import SVR\n"
   ]
  },
  {
   "cell_type": "code",
   "execution_count": 2,
   "metadata": {},
   "outputs": [],
   "source": [
    "#read pickle\n",
    "X_train = pd.read_pickle(\"/Users/ilseeb/Desktop/Postgraduate/Train Punctuality Data/train_test_data/X_train_over.pkl\")\n",
    "y_train = pd.read_pickle(\"/Users/ilseeb/Desktop/Postgraduate/Train Punctuality Data/train_test_data/y_train_over.pkl\")"
   ]
  },
  {
   "cell_type": "code",
   "execution_count": 3,
   "metadata": {},
   "outputs": [
    {
     "data": {
      "text/plain": [
       "Index(['train_serv', 'delay_dep', 'month', 'destination_region',\n",
       "       'departure_region', 'temperature', 'relative_humidity', 'wind_speed',\n",
       "       'wind_direction', 'time_of_day', 'date', 'day_of_week'],\n",
       "      dtype='object')"
      ]
     },
     "execution_count": 3,
     "metadata": {},
     "output_type": "execute_result"
    }
   ],
   "source": [
    "X_train.columns"
   ]
  },
  {
   "cell_type": "code",
   "execution_count": 4,
   "metadata": {},
   "outputs": [],
   "source": [
    "X = X_train[['delay_dep', 'temperature', 'relative_humidity', 'wind_speed',\n",
    "       'wind_direction']]"
   ]
  },
  {
   "cell_type": "code",
   "execution_count": 5,
   "metadata": {},
   "outputs": [
    {
     "name": "stdout",
     "output_type": "stream",
     "text": [
      "Feature ranking:  [1 2 3 4 5]\n"
     ]
    }
   ],
   "source": [
    "rfc = RandomForestClassifier()\n",
    "estimator = rfc\n",
    "select = RFECV(estimator, cv=10)\n",
    "select = select.fit(X, y_train)\n",
    "print(\"Feature ranking: \", select.ranking_)\n"
   ]
  },
  {
   "cell_type": "code",
   "execution_count": 8,
   "metadata": {},
   "outputs": [
    {
     "data": {
      "text/html": [
       "<div>\n",
       "<style scoped>\n",
       "    .dataframe tbody tr th:only-of-type {\n",
       "        vertical-align: middle;\n",
       "    }\n",
       "\n",
       "    .dataframe tbody tr th {\n",
       "        vertical-align: top;\n",
       "    }\n",
       "\n",
       "    .dataframe thead th {\n",
       "        text-align: right;\n",
       "    }\n",
       "</style>\n",
       "<table border=\"1\" class=\"dataframe\">\n",
       "  <thead>\n",
       "    <tr style=\"text-align: right;\">\n",
       "      <th></th>\n",
       "      <th>delay_dep</th>\n",
       "      <th>temperature</th>\n",
       "      <th>relative_humidity</th>\n",
       "      <th>wind_speed</th>\n",
       "      <th>wind_direction</th>\n",
       "    </tr>\n",
       "  </thead>\n",
       "  <tbody>\n",
       "    <tr>\n",
       "      <th>0</th>\n",
       "      <td>213</td>\n",
       "      <td>13.490944</td>\n",
       "      <td>71.580310</td>\n",
       "      <td>16.394829</td>\n",
       "      <td>81.15818</td>\n",
       "    </tr>\n",
       "    <tr>\n",
       "      <th>1</th>\n",
       "      <td>225</td>\n",
       "      <td>16.240944</td>\n",
       "      <td>56.210087</td>\n",
       "      <td>19.881649</td>\n",
       "      <td>328.32452</td>\n",
       "    </tr>\n",
       "    <tr>\n",
       "      <th>2</th>\n",
       "      <td>220</td>\n",
       "      <td>3.830944</td>\n",
       "      <td>89.245080</td>\n",
       "      <td>21.758419</td>\n",
       "      <td>308.95593</td>\n",
       "    </tr>\n",
       "    <tr>\n",
       "      <th>3</th>\n",
       "      <td>44</td>\n",
       "      <td>7.070944</td>\n",
       "      <td>89.675210</td>\n",
       "      <td>18.511143</td>\n",
       "      <td>193.49573</td>\n",
       "    </tr>\n",
       "    <tr>\n",
       "      <th>4</th>\n",
       "      <td>16</td>\n",
       "      <td>23.960943</td>\n",
       "      <td>57.059574</td>\n",
       "      <td>13.339445</td>\n",
       "      <td>356.90594</td>\n",
       "    </tr>\n",
       "  </tbody>\n",
       "</table>\n",
       "</div>"
      ],
      "text/plain": [
       "   delay_dep  temperature  relative_humidity  wind_speed  wind_direction\n",
       "0        213    13.490944          71.580310   16.394829        81.15818\n",
       "1        225    16.240944          56.210087   19.881649       328.32452\n",
       "2        220     3.830944          89.245080   21.758419       308.95593\n",
       "3         44     7.070944          89.675210   18.511143       193.49573\n",
       "4         16    23.960943          57.059574   13.339445       356.90594"
      ]
     },
     "execution_count": 8,
     "metadata": {},
     "output_type": "execute_result"
    }
   ],
   "source": [
    "X.head()"
   ]
  },
  {
   "cell_type": "code",
   "execution_count": 9,
   "metadata": {},
   "outputs": [],
   "source": [
    "from numpy import array  "
   ]
  },
  {
   "cell_type": "code",
   "execution_count": 10,
   "metadata": {},
   "outputs": [],
   "source": [
    "mask = select.get_support()\n",
    "features = array(X.columns) \n",
    "best_features = features[mask]"
   ]
  },
  {
   "cell_type": "code",
   "execution_count": 12,
   "metadata": {},
   "outputs": [
    {
     "name": "stdout",
     "output_type": "stream",
     "text": [
      "All features:  5\n",
      "['delay_dep' 'temperature' 'relative_humidity' 'wind_speed'\n",
      " 'wind_direction']\n",
      "Selected best:  1\n",
      "['delay_dep']\n"
     ]
    }
   ],
   "source": [
    "print(\"All features: \", X.shape[1])\n",
    "print(features)\n",
    "\n",
    "print(\"Selected best: \", best_features.shape[0])\n",
    "print(features[mask]) "
   ]
  },
  {
   "cell_type": "code",
   "execution_count": 13,
   "metadata": {},
   "outputs": [
    {
     "name": "stdout",
     "output_type": "stream",
     "text": [
      "Feature ranking:  [1 2 3 4 5]\n"
     ]
    }
   ],
   "source": [
    "print(\"Feature ranking: \", select.ranking_)\n"
   ]
  }
 ],
 "metadata": {
  "kernelspec": {
   "display_name": "Python 3",
   "language": "python",
   "name": "python3"
  },
  "language_info": {
   "codemirror_mode": {
    "name": "ipython",
    "version": 3
   },
   "file_extension": ".py",
   "mimetype": "text/x-python",
   "name": "python",
   "nbconvert_exporter": "python",
   "pygments_lexer": "ipython3",
   "version": "3.9.7"
  },
  "orig_nbformat": 4,
  "vscode": {
   "interpreter": {
    "hash": "aee8b7b246df8f9039afb4144a1f6fd8d2ca17a180786b69acc140d282b71a49"
   }
  }
 },
 "nbformat": 4,
 "nbformat_minor": 2
}
