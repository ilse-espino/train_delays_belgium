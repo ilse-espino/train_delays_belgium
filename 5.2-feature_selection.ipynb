{
 "cells": [
  {
   "cell_type": "code",
   "execution_count": 2,
   "metadata": {},
   "outputs": [],
   "source": [
    "import pandas as pd\n",
    "import numpy as np\n",
    "from sklearn.feature_selection import SelectKBest\n",
    "from sklearn.feature_selection import chi2\n"
   ]
  },
  {
   "cell_type": "code",
   "execution_count": 9,
   "metadata": {},
   "outputs": [],
   "source": [
    "#read pickle\n",
    "X_train = pd.read_pickle(\"/Users/ilseeb/Desktop/Postgraduate/Train Punctuality Data/train_test_data/X_train_processed.pkl\")\n",
    "y_train = pd.read_pickle(\"/Users/ilseeb/Desktop/Postgraduate/Train Punctuality Data/train_test_data/y_train_over.pkl\")"
   ]
  },
  {
   "cell_type": "code",
   "execution_count": 10,
   "metadata": {},
   "outputs": [
    {
     "data": {
      "text/plain": [
       "Index(['temperature', 'relative_humidity', 'wind_speed', 'wind_direction',\n",
       "       'date', 'train_serv_BELGORAIL', 'train_serv_EUROSTAR',\n",
       "       'train_serv_EUROSTARFR', 'train_serv_SNCB/NMBS', 'train_serv_THI-FACT',\n",
       "       'month_APR', 'month_AUG', 'month_DEC', 'month_FEB', 'month_JAN',\n",
       "       'month_JUL', 'month_JUN', 'month_MAR', 'month_MAY', 'month_NOV',\n",
       "       'month_OCT', 'month_SEP', 'destination_region_BRUSSELS-CAPITAL REGION',\n",
       "       'destination_region_FLANDERS', 'destination_region_WALLONIA',\n",
       "       'departure_region_BRUSSELS-CAPITAL REGION', 'departure_region_FLANDERS',\n",
       "       'departure_region_WALLONIA', 'time_of_day_afternoon',\n",
       "       'time_of_day_morning', 'time_of_day_night', 'day_of_week_Friday',\n",
       "       'day_of_week_Monday', 'day_of_week_Saturday', 'day_of_week_Sunday',\n",
       "       'day_of_week_Thursday', 'day_of_week_Tuesday', 'day_of_week_Wednesday'],\n",
       "      dtype='object')"
      ]
     },
     "execution_count": 10,
     "metadata": {},
     "output_type": "execute_result"
    }
   ],
   "source": [
    "X_train.columns"
   ]
  },
  {
   "cell_type": "code",
   "execution_count": 11,
   "metadata": {},
   "outputs": [],
   "source": [
    "X_train.drop(columns=[\"date\"], inplace=True)"
   ]
  },
  {
   "cell_type": "code",
   "execution_count": 12,
   "metadata": {},
   "outputs": [],
   "source": [
    "#rfc = RandomForestClassifier()\n",
    "#estimator = rfc\n",
    "#select = RFECV(estimator, cv=10)\n",
    "#select = select.fit(X, y_train)\n",
    "#print(\"Feature ranking: \", select.ranking_)\n"
   ]
  },
  {
   "cell_type": "code",
   "execution_count": 13,
   "metadata": {},
   "outputs": [],
   "source": [
    "#apply SelectKBest class to extract top 20 best features\n",
    "bestfeatures = SelectKBest(score_func=chi2, k=20)\n",
    "fit = bestfeatures.fit(X_train,y_train)\n",
    "dfscores = pd.DataFrame(fit.scores_)\n",
    "dfcolumns = pd.DataFrame(X_train.columns)"
   ]
  },
  {
   "cell_type": "code",
   "execution_count": 14,
   "metadata": {},
   "outputs": [
    {
     "name": "stdout",
     "output_type": "stream",
     "text": [
      "                                         Specs         Score\n",
      "24    departure_region_BRUSSELS-CAPITAL REGION  47151.392457\n",
      "28                         time_of_day_morning  25547.376382\n",
      "26                   departure_region_WALLONIA  20789.602617\n",
      "18                                   month_NOV  12274.573293\n",
      "10                                   month_AUG  11992.241887\n",
      "21  destination_region_BRUSSELS-CAPITAL REGION  10803.416598\n",
      "29                           time_of_day_night  10190.624768\n",
      "8                          train_serv_THI-FACT   9424.535333\n",
      "14                                   month_JUL   6955.336933\n",
      "19                                   month_OCT   6754.767069\n",
      "23                 destination_region_WALLONIA   5848.050199\n",
      "27                       time_of_day_afternoon   5342.147780\n",
      "33                          day_of_week_Sunday   4695.664025\n",
      "32                        day_of_week_Saturday   3124.972066\n",
      "9                                    month_APR   2601.333856\n",
      "25                   departure_region_FLANDERS   1518.452783\n",
      "31                          day_of_week_Monday   1159.193518\n",
      "15                                   month_JUN   1035.003736\n",
      "5                          train_serv_EUROSTAR    810.705044\n",
      "13                                   month_JAN    707.684838\n"
     ]
    }
   ],
   "source": [
    "#concat two dataframes for better visualization \n",
    "featureScores = pd.concat([dfcolumns,dfscores],axis=1)\n",
    "featureScores.columns = ['Specs','Score']  #naming the dataframe columns\n",
    "print(featureScores.nlargest(20,'Score'))  #print 20 best features"
   ]
  },
  {
   "cell_type": "code",
   "execution_count": 16,
   "metadata": {},
   "outputs": [],
   "source": [
    "X_train = pd.read_pickle(\"/Users/ilseeb/Desktop/Postgraduate/Train Punctuality Data/train_test_data/X_train_processed.pkl\")\n",
    "y_train = pd.read_pickle(\"/Users/ilseeb/Desktop/Postgraduate/Train Punctuality Data/train_test_data/y_train_over.pkl\")\n"
   ]
  },
  {
   "cell_type": "code",
   "execution_count": 18,
   "metadata": {},
   "outputs": [],
   "source": [
    "data_final_vars = X_train.columns.values.tolist()\n",
    "y=y_train\n",
    "X=[i for i in data_final_vars if i not in y]\n"
   ]
  },
  {
   "cell_type": "code",
   "execution_count": 19,
   "metadata": {},
   "outputs": [],
   "source": [
    "from sklearn.feature_selection import RFE\n",
    "from sklearn.linear_model import LogisticRegression\n"
   ]
  },
  {
   "cell_type": "code",
   "execution_count": 20,
   "metadata": {},
   "outputs": [],
   "source": [
    "logreg = LogisticRegression()\n"
   ]
  },
  {
   "cell_type": "code",
   "execution_count": 21,
   "metadata": {},
   "outputs": [],
   "source": [
    "rfe = RFE(estimator=logreg, n_features_to_select=20)\n"
   ]
  },
  {
   "cell_type": "code",
   "execution_count": null,
   "metadata": {},
   "outputs": [],
   "source": [
    "X_train.drop(columns=['date'],inplace=True)"
   ]
  },
  {
   "cell_type": "code",
   "execution_count": 25,
   "metadata": {},
   "outputs": [
    {
     "name": "stderr",
     "output_type": "stream",
     "text": [
      "/Library/Frameworks/Python.framework/Versions/3.9/lib/python3.9/site-packages/sklearn/linear_model/_logistic.py:458: ConvergenceWarning: lbfgs failed to converge (status=1):\n",
      "STOP: TOTAL NO. of ITERATIONS REACHED LIMIT.\n",
      "\n",
      "Increase the number of iterations (max_iter) or scale the data as shown in:\n",
      "    https://scikit-learn.org/stable/modules/preprocessing.html\n",
      "Please also refer to the documentation for alternative solver options:\n",
      "    https://scikit-learn.org/stable/modules/linear_model.html#logistic-regression\n",
      "  n_iter_i = _check_optimize_result(\n"
     ]
    },
    {
     "name": "stdout",
     "output_type": "stream",
     "text": [
      "[ True  True  True False False  True False  True False  True  True  True\n",
      "  True  True  True False False False  True  True False  True False False\n",
      "  True  True  True False  True False False False  True  True False False\n",
      " False]\n",
      "[ 1  1  1 17 12  1 18  1 16  1  1  1  1  1  1  6  5 15  1  1  4  1 14 13\n",
      "  1  1  1  3  1  2  9  7  1  1 10  8 11]\n"
     ]
    }
   ],
   "source": [
    "rfe = rfe.fit(X_train, y_train.values.ravel())\n",
    "print(rfe.support_)\n",
    "print(rfe.ranking_)"
   ]
  },
  {
   "cell_type": "code",
   "execution_count": 26,
   "metadata": {},
   "outputs": [
    {
     "data": {
      "text/plain": [
       "array([ 1,  1,  1, 17, 12,  1, 18,  1, 16,  1,  1,  1,  1,  1,  1,  6,  5,\n",
       "       15,  1,  1,  4,  1, 14, 13,  1,  1,  1,  3,  1,  2,  9,  7,  1,  1,\n",
       "       10,  8, 11])"
      ]
     },
     "execution_count": 26,
     "metadata": {},
     "output_type": "execute_result"
    }
   ],
   "source": [
    "rfe.ranking_"
   ]
  },
  {
   "cell_type": "code",
   "execution_count": 31,
   "metadata": {},
   "outputs": [
    {
     "data": {
      "text/plain": [
       "Index(['temperature', 'relative_humidity', 'wind_speed', 'wind_direction',\n",
       "       'train_serv_BELGORAIL', 'train_serv_EUROSTAR', 'train_serv_EUROSTARFR',\n",
       "       'train_serv_SNCB/NMBS', 'train_serv_THI-FACT', 'month_APR', 'month_AUG',\n",
       "       'month_DEC', 'month_FEB', 'month_JAN', 'month_JUL', 'month_JUN',\n",
       "       'month_MAR', 'month_MAY', 'month_NOV', 'month_OCT', 'month_SEP',\n",
       "       'destination_region_BRUSSELS-CAPITAL REGION',\n",
       "       'destination_region_FLANDERS', 'destination_region_WALLONIA',\n",
       "       'departure_region_BRUSSELS-CAPITAL REGION', 'departure_region_FLANDERS',\n",
       "       'departure_region_WALLONIA', 'time_of_day_afternoon',\n",
       "       'time_of_day_morning', 'time_of_day_night', 'day_of_week_Friday',\n",
       "       'day_of_week_Monday', 'day_of_week_Saturday', 'day_of_week_Sunday',\n",
       "       'day_of_week_Thursday', 'day_of_week_Tuesday', 'day_of_week_Wednesday'],\n",
       "      dtype='object')"
      ]
     },
     "execution_count": 31,
     "metadata": {},
     "output_type": "execute_result"
    }
   ],
   "source": [
    "X_train.columns"
   ]
  },
  {
   "cell_type": "code",
   "execution_count": 32,
   "metadata": {},
   "outputs": [],
   "source": [
    "df = pd.DataFrame(X_train.columns)"
   ]
  },
  {
   "cell_type": "code",
   "execution_count": 36,
   "metadata": {},
   "outputs": [],
   "source": [
    "df['rank'] = rfe.ranking_\n",
    "df['selection'] = rfe.support_"
   ]
  },
  {
   "cell_type": "code",
   "execution_count": 38,
   "metadata": {},
   "outputs": [],
   "source": [
    "df.columns = ['Variable', 'Ranking', 'Support']"
   ]
  },
  {
   "cell_type": "code",
   "execution_count": 40,
   "metadata": {},
   "outputs": [
    {
     "data": {
      "text/html": [
       "<div>\n",
       "<style scoped>\n",
       "    .dataframe tbody tr th:only-of-type {\n",
       "        vertical-align: middle;\n",
       "    }\n",
       "\n",
       "    .dataframe tbody tr th {\n",
       "        vertical-align: top;\n",
       "    }\n",
       "\n",
       "    .dataframe thead th {\n",
       "        text-align: right;\n",
       "    }\n",
       "</style>\n",
       "<table border=\"1\" class=\"dataframe\">\n",
       "  <thead>\n",
       "    <tr style=\"text-align: right;\">\n",
       "      <th></th>\n",
       "      <th>Variable</th>\n",
       "      <th>Ranking</th>\n",
       "      <th>Support</th>\n",
       "    </tr>\n",
       "  </thead>\n",
       "  <tbody>\n",
       "    <tr>\n",
       "      <th>0</th>\n",
       "      <td>temperature</td>\n",
       "      <td>1</td>\n",
       "      <td>True</td>\n",
       "    </tr>\n",
       "    <tr>\n",
       "      <th>33</th>\n",
       "      <td>day_of_week_Sunday</td>\n",
       "      <td>1</td>\n",
       "      <td>True</td>\n",
       "    </tr>\n",
       "    <tr>\n",
       "      <th>32</th>\n",
       "      <td>day_of_week_Saturday</td>\n",
       "      <td>1</td>\n",
       "      <td>True</td>\n",
       "    </tr>\n",
       "    <tr>\n",
       "      <th>28</th>\n",
       "      <td>time_of_day_morning</td>\n",
       "      <td>1</td>\n",
       "      <td>True</td>\n",
       "    </tr>\n",
       "    <tr>\n",
       "      <th>26</th>\n",
       "      <td>departure_region_WALLONIA</td>\n",
       "      <td>1</td>\n",
       "      <td>True</td>\n",
       "    </tr>\n",
       "    <tr>\n",
       "      <th>25</th>\n",
       "      <td>departure_region_FLANDERS</td>\n",
       "      <td>1</td>\n",
       "      <td>True</td>\n",
       "    </tr>\n",
       "    <tr>\n",
       "      <th>24</th>\n",
       "      <td>departure_region_BRUSSELS-CAPITAL REGION</td>\n",
       "      <td>1</td>\n",
       "      <td>True</td>\n",
       "    </tr>\n",
       "    <tr>\n",
       "      <th>21</th>\n",
       "      <td>destination_region_BRUSSELS-CAPITAL REGION</td>\n",
       "      <td>1</td>\n",
       "      <td>True</td>\n",
       "    </tr>\n",
       "    <tr>\n",
       "      <th>19</th>\n",
       "      <td>month_OCT</td>\n",
       "      <td>1</td>\n",
       "      <td>True</td>\n",
       "    </tr>\n",
       "    <tr>\n",
       "      <th>14</th>\n",
       "      <td>month_JUL</td>\n",
       "      <td>1</td>\n",
       "      <td>True</td>\n",
       "    </tr>\n",
       "    <tr>\n",
       "      <th>13</th>\n",
       "      <td>month_JAN</td>\n",
       "      <td>1</td>\n",
       "      <td>True</td>\n",
       "    </tr>\n",
       "    <tr>\n",
       "      <th>12</th>\n",
       "      <td>month_FEB</td>\n",
       "      <td>1</td>\n",
       "      <td>True</td>\n",
       "    </tr>\n",
       "    <tr>\n",
       "      <th>18</th>\n",
       "      <td>month_NOV</td>\n",
       "      <td>1</td>\n",
       "      <td>True</td>\n",
       "    </tr>\n",
       "    <tr>\n",
       "      <th>10</th>\n",
       "      <td>month_AUG</td>\n",
       "      <td>1</td>\n",
       "      <td>True</td>\n",
       "    </tr>\n",
       "    <tr>\n",
       "      <th>9</th>\n",
       "      <td>month_APR</td>\n",
       "      <td>1</td>\n",
       "      <td>True</td>\n",
       "    </tr>\n",
       "    <tr>\n",
       "      <th>1</th>\n",
       "      <td>relative_humidity</td>\n",
       "      <td>1</td>\n",
       "      <td>True</td>\n",
       "    </tr>\n",
       "    <tr>\n",
       "      <th>7</th>\n",
       "      <td>train_serv_SNCB/NMBS</td>\n",
       "      <td>1</td>\n",
       "      <td>True</td>\n",
       "    </tr>\n",
       "    <tr>\n",
       "      <th>2</th>\n",
       "      <td>wind_speed</td>\n",
       "      <td>1</td>\n",
       "      <td>True</td>\n",
       "    </tr>\n",
       "    <tr>\n",
       "      <th>11</th>\n",
       "      <td>month_DEC</td>\n",
       "      <td>1</td>\n",
       "      <td>True</td>\n",
       "    </tr>\n",
       "    <tr>\n",
       "      <th>5</th>\n",
       "      <td>train_serv_EUROSTAR</td>\n",
       "      <td>1</td>\n",
       "      <td>True</td>\n",
       "    </tr>\n",
       "    <tr>\n",
       "      <th>29</th>\n",
       "      <td>time_of_day_night</td>\n",
       "      <td>2</td>\n",
       "      <td>False</td>\n",
       "    </tr>\n",
       "    <tr>\n",
       "      <th>27</th>\n",
       "      <td>time_of_day_afternoon</td>\n",
       "      <td>3</td>\n",
       "      <td>False</td>\n",
       "    </tr>\n",
       "    <tr>\n",
       "      <th>20</th>\n",
       "      <td>month_SEP</td>\n",
       "      <td>4</td>\n",
       "      <td>False</td>\n",
       "    </tr>\n",
       "    <tr>\n",
       "      <th>16</th>\n",
       "      <td>month_MAR</td>\n",
       "      <td>5</td>\n",
       "      <td>False</td>\n",
       "    </tr>\n",
       "    <tr>\n",
       "      <th>15</th>\n",
       "      <td>month_JUN</td>\n",
       "      <td>6</td>\n",
       "      <td>False</td>\n",
       "    </tr>\n",
       "    <tr>\n",
       "      <th>31</th>\n",
       "      <td>day_of_week_Monday</td>\n",
       "      <td>7</td>\n",
       "      <td>False</td>\n",
       "    </tr>\n",
       "    <tr>\n",
       "      <th>35</th>\n",
       "      <td>day_of_week_Tuesday</td>\n",
       "      <td>8</td>\n",
       "      <td>False</td>\n",
       "    </tr>\n",
       "    <tr>\n",
       "      <th>30</th>\n",
       "      <td>day_of_week_Friday</td>\n",
       "      <td>9</td>\n",
       "      <td>False</td>\n",
       "    </tr>\n",
       "    <tr>\n",
       "      <th>34</th>\n",
       "      <td>day_of_week_Thursday</td>\n",
       "      <td>10</td>\n",
       "      <td>False</td>\n",
       "    </tr>\n",
       "    <tr>\n",
       "      <th>36</th>\n",
       "      <td>day_of_week_Wednesday</td>\n",
       "      <td>11</td>\n",
       "      <td>False</td>\n",
       "    </tr>\n",
       "    <tr>\n",
       "      <th>4</th>\n",
       "      <td>train_serv_BELGORAIL</td>\n",
       "      <td>12</td>\n",
       "      <td>False</td>\n",
       "    </tr>\n",
       "    <tr>\n",
       "      <th>23</th>\n",
       "      <td>destination_region_WALLONIA</td>\n",
       "      <td>13</td>\n",
       "      <td>False</td>\n",
       "    </tr>\n",
       "    <tr>\n",
       "      <th>22</th>\n",
       "      <td>destination_region_FLANDERS</td>\n",
       "      <td>14</td>\n",
       "      <td>False</td>\n",
       "    </tr>\n",
       "    <tr>\n",
       "      <th>17</th>\n",
       "      <td>month_MAY</td>\n",
       "      <td>15</td>\n",
       "      <td>False</td>\n",
       "    </tr>\n",
       "    <tr>\n",
       "      <th>8</th>\n",
       "      <td>train_serv_THI-FACT</td>\n",
       "      <td>16</td>\n",
       "      <td>False</td>\n",
       "    </tr>\n",
       "    <tr>\n",
       "      <th>3</th>\n",
       "      <td>wind_direction</td>\n",
       "      <td>17</td>\n",
       "      <td>False</td>\n",
       "    </tr>\n",
       "    <tr>\n",
       "      <th>6</th>\n",
       "      <td>train_serv_EUROSTARFR</td>\n",
       "      <td>18</td>\n",
       "      <td>False</td>\n",
       "    </tr>\n",
       "  </tbody>\n",
       "</table>\n",
       "</div>"
      ],
      "text/plain": [
       "                                      Variable  Ranking  Support\n",
       "0                                  temperature        1     True\n",
       "33                          day_of_week_Sunday        1     True\n",
       "32                        day_of_week_Saturday        1     True\n",
       "28                         time_of_day_morning        1     True\n",
       "26                   departure_region_WALLONIA        1     True\n",
       "25                   departure_region_FLANDERS        1     True\n",
       "24    departure_region_BRUSSELS-CAPITAL REGION        1     True\n",
       "21  destination_region_BRUSSELS-CAPITAL REGION        1     True\n",
       "19                                   month_OCT        1     True\n",
       "14                                   month_JUL        1     True\n",
       "13                                   month_JAN        1     True\n",
       "12                                   month_FEB        1     True\n",
       "18                                   month_NOV        1     True\n",
       "10                                   month_AUG        1     True\n",
       "9                                    month_APR        1     True\n",
       "1                            relative_humidity        1     True\n",
       "7                         train_serv_SNCB/NMBS        1     True\n",
       "2                                   wind_speed        1     True\n",
       "11                                   month_DEC        1     True\n",
       "5                          train_serv_EUROSTAR        1     True\n",
       "29                           time_of_day_night        2    False\n",
       "27                       time_of_day_afternoon        3    False\n",
       "20                                   month_SEP        4    False\n",
       "16                                   month_MAR        5    False\n",
       "15                                   month_JUN        6    False\n",
       "31                          day_of_week_Monday        7    False\n",
       "35                         day_of_week_Tuesday        8    False\n",
       "30                          day_of_week_Friday        9    False\n",
       "34                        day_of_week_Thursday       10    False\n",
       "36                       day_of_week_Wednesday       11    False\n",
       "4                         train_serv_BELGORAIL       12    False\n",
       "23                 destination_region_WALLONIA       13    False\n",
       "22                 destination_region_FLANDERS       14    False\n",
       "17                                   month_MAY       15    False\n",
       "8                          train_serv_THI-FACT       16    False\n",
       "3                               wind_direction       17    False\n",
       "6                        train_serv_EUROSTARFR       18    False"
      ]
     },
     "execution_count": 40,
     "metadata": {},
     "output_type": "execute_result"
    }
   ],
   "source": [
    "df.sort_values(by=['Ranking'])"
   ]
  },
  {
   "cell_type": "code",
   "execution_count": 43,
   "metadata": {},
   "outputs": [
    {
     "data": {
      "text/plain": [
       "array(['temperature', 'relative_humidity', 'wind_speed',\n",
       "       'train_serv_EUROSTAR', 'train_serv_SNCB/NMBS', 'month_APR',\n",
       "       'month_AUG', 'month_DEC', 'month_FEB', 'month_JAN', 'month_JUL',\n",
       "       'month_NOV', 'month_OCT',\n",
       "       'destination_region_BRUSSELS-CAPITAL REGION',\n",
       "       'departure_region_BRUSSELS-CAPITAL REGION',\n",
       "       'departure_region_FLANDERS', 'departure_region_WALLONIA',\n",
       "       'time_of_day_morning', 'day_of_week_Saturday',\n",
       "       'day_of_week_Sunday'], dtype=object)"
      ]
     },
     "execution_count": 43,
     "metadata": {},
     "output_type": "execute_result"
    }
   ],
   "source": [
    "df[df['Support']==True]['Variable'].values"
   ]
  }
 ],
 "metadata": {
  "kernelspec": {
   "display_name": "Python 3",
   "language": "python",
   "name": "python3"
  },
  "language_info": {
   "codemirror_mode": {
    "name": "ipython",
    "version": 3
   },
   "file_extension": ".py",
   "mimetype": "text/x-python",
   "name": "python",
   "nbconvert_exporter": "python",
   "pygments_lexer": "ipython3",
   "version": "3.9.7"
  },
  "orig_nbformat": 4,
  "vscode": {
   "interpreter": {
    "hash": "aee8b7b246df8f9039afb4144a1f6fd8d2ca17a180786b69acc140d282b71a49"
   }
  }
 },
 "nbformat": 4,
 "nbformat_minor": 2
}
