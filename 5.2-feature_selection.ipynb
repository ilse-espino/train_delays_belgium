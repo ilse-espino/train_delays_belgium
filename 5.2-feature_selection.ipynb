{
 "cells": [
  {
   "cell_type": "code",
   "execution_count": 8,
   "metadata": {},
   "outputs": [],
   "source": [
    "import pandas as pd\n",
    "import numpy as np\n",
    "from sklearn.feature_selection import SelectKBest\n",
    "from sklearn.feature_selection import chi2\n"
   ]
  },
  {
   "cell_type": "code",
   "execution_count": 9,
   "metadata": {},
   "outputs": [],
   "source": [
    "#read pickle\n",
    "X_train = pd.read_pickle(\"/Users/ilseeb/Desktop/Postgraduate/Train Punctuality Data/train_test_data/X_train_processed.pkl\")\n",
    "y_train = pd.read_pickle(\"/Users/ilseeb/Desktop/Postgraduate/Train Punctuality Data/train_test_data/y_train_over.pkl\")"
   ]
  },
  {
   "cell_type": "code",
   "execution_count": 10,
   "metadata": {},
   "outputs": [
    {
     "data": {
      "text/plain": [
       "Index(['temperature', 'relative_humidity', 'wind_speed', 'wind_direction',\n",
       "       'date', 'train_serv_BELGORAIL', 'train_serv_EUROSTAR',\n",
       "       'train_serv_EUROSTARFR', 'train_serv_SNCB/NMBS', 'train_serv_THI-FACT',\n",
       "       'month_APR', 'month_AUG', 'month_DEC', 'month_FEB', 'month_JAN',\n",
       "       'month_JUL', 'month_JUN', 'month_MAR', 'month_MAY', 'month_NOV',\n",
       "       'month_OCT', 'month_SEP', 'destination_region_BRUSSELS-CAPITAL REGION',\n",
       "       'destination_region_FLANDERS', 'destination_region_WALLONIA',\n",
       "       'departure_region_BRUSSELS-CAPITAL REGION', 'departure_region_FLANDERS',\n",
       "       'departure_region_WALLONIA', 'time_of_day_afternoon',\n",
       "       'time_of_day_morning', 'time_of_day_night', 'day_of_week_Friday',\n",
       "       'day_of_week_Monday', 'day_of_week_Saturday', 'day_of_week_Sunday',\n",
       "       'day_of_week_Thursday', 'day_of_week_Tuesday', 'day_of_week_Wednesday'],\n",
       "      dtype='object')"
      ]
     },
     "execution_count": 10,
     "metadata": {},
     "output_type": "execute_result"
    }
   ],
   "source": [
    "X_train.columns"
   ]
  },
  {
   "cell_type": "code",
   "execution_count": 11,
   "metadata": {},
   "outputs": [],
   "source": [
    "X_train.drop(columns=[\"date\"], inplace=True)"
   ]
  },
  {
   "cell_type": "code",
   "execution_count": 12,
   "metadata": {},
   "outputs": [],
   "source": [
    "#rfc = RandomForestClassifier()\n",
    "#estimator = rfc\n",
    "#select = RFECV(estimator, cv=10)\n",
    "#select = select.fit(X, y_train)\n",
    "#print(\"Feature ranking: \", select.ranking_)\n"
   ]
  },
  {
   "cell_type": "code",
   "execution_count": 13,
   "metadata": {},
   "outputs": [],
   "source": [
    "#apply SelectKBest class to extract top 20 best features\n",
    "bestfeatures = SelectKBest(score_func=chi2, k=20)\n",
    "fit = bestfeatures.fit(X_train,y_train)\n",
    "dfscores = pd.DataFrame(fit.scores_)\n",
    "dfcolumns = pd.DataFrame(X_train.columns)"
   ]
  },
  {
   "cell_type": "code",
   "execution_count": 14,
   "metadata": {},
   "outputs": [
    {
     "name": "stdout",
     "output_type": "stream",
     "text": [
      "                                         Specs         Score\n",
      "24    departure_region_BRUSSELS-CAPITAL REGION  47151.392457\n",
      "28                         time_of_day_morning  25547.376382\n",
      "26                   departure_region_WALLONIA  20789.602617\n",
      "18                                   month_NOV  12274.573293\n",
      "10                                   month_AUG  11992.241887\n",
      "21  destination_region_BRUSSELS-CAPITAL REGION  10803.416598\n",
      "29                           time_of_day_night  10190.624768\n",
      "8                          train_serv_THI-FACT   9424.535333\n",
      "14                                   month_JUL   6955.336933\n",
      "19                                   month_OCT   6754.767069\n",
      "23                 destination_region_WALLONIA   5848.050199\n",
      "27                       time_of_day_afternoon   5342.147780\n",
      "33                          day_of_week_Sunday   4695.664025\n",
      "32                        day_of_week_Saturday   3124.972066\n",
      "9                                    month_APR   2601.333856\n",
      "25                   departure_region_FLANDERS   1518.452783\n",
      "31                          day_of_week_Monday   1159.193518\n",
      "15                                   month_JUN   1035.003736\n",
      "5                          train_serv_EUROSTAR    810.705044\n",
      "13                                   month_JAN    707.684838\n"
     ]
    }
   ],
   "source": [
    "#concat two dataframes for better visualization \n",
    "featureScores = pd.concat([dfcolumns,dfscores],axis=1)\n",
    "featureScores.columns = ['Specs','Score']  #naming the dataframe columns\n",
    "print(featureScores.nlargest(20,'Score'))  #print 20 best features"
   ]
  }
 ],
 "metadata": {
  "kernelspec": {
   "display_name": "Python 3",
   "language": "python",
   "name": "python3"
  },
  "language_info": {
   "codemirror_mode": {
    "name": "ipython",
    "version": 3
   },
   "file_extension": ".py",
   "mimetype": "text/x-python",
   "name": "python",
   "nbconvert_exporter": "python",
   "pygments_lexer": "ipython3",
   "version": "3.9.7"
  },
  "orig_nbformat": 4,
  "vscode": {
   "interpreter": {
    "hash": "aee8b7b246df8f9039afb4144a1f6fd8d2ca17a180786b69acc140d282b71a49"
   }
  }
 },
 "nbformat": 4,
 "nbformat_minor": 2
}
